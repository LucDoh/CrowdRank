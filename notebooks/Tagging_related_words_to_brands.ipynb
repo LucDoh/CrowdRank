{
 "cells": [
  {
   "cell_type": "code",
   "execution_count": 41,
   "metadata": {},
   "outputs": [],
   "source": [
    "import json\n",
    "import requests\n",
    "import spacy\n",
    "import nltk\n",
    "from collections import Counter\n",
    "import sys\n",
    "import numpy as np\n",
    "sys.path.append(\"..\")\n",
    "from crowdrank import interpreter\n",
    "\n",
    "from spacy.lang.en.stop_words import STOP_WORDS"
   ]
  },
  {
   "cell_type": "code",
   "execution_count": 11,
   "metadata": {},
   "outputs": [],
   "source": [
    "from sklearn.feature_extraction.text import TfidfVectorizer"
   ]
  },
  {
   "cell_type": "code",
   "execution_count": 2,
   "metadata": {},
   "outputs": [],
   "source": [
    "cmt_path = '/Users/luc.dhauthuille/Desktop/insightAI/data/interpreted_data/headphoneadvice_360.json'"
   ]
  },
  {
   "cell_type": "code",
   "execution_count": 5,
   "metadata": {},
   "outputs": [],
   "source": [
    "cmts_upvotes = interpreter.get_local('headphoneadvice')"
   ]
  },
  {
   "cell_type": "code",
   "execution_count": 7,
   "metadata": {},
   "outputs": [
    {
     "data": {
      "text/plain": [
       "5046"
      ]
     },
     "execution_count": 7,
     "metadata": {},
     "output_type": "execute_result"
    }
   ],
   "source": [
    "len(cmts_upvotes)"
   ]
  },
  {
   "cell_type": "code",
   "execution_count": null,
   "metadata": {},
   "outputs": [],
   "source": [
    "# Testing this on a general corpus\n"
   ]
  },
  {
   "cell_type": "code",
   "execution_count": 8,
   "metadata": {},
   "outputs": [],
   "source": [
    "# Corpus:\n",
    "corpus = [c[0] for c in cmts_upvotes]"
   ]
  },
  {
   "cell_type": "code",
   "execution_count": 91,
   "metadata": {},
   "outputs": [],
   "source": [
    "vectorizer = TfidfVectorizer(stop_words = 'english')\n",
    "X = vectorizer.fit_transform(corpus)"
   ]
  },
  {
   "cell_type": "code",
   "execution_count": 92,
   "metadata": {},
   "outputs": [],
   "source": [
    "names = vectorizer.get_feature_names()"
   ]
  },
  {
   "cell_type": "code",
   "execution_count": 94,
   "metadata": {},
   "outputs": [
    {
     "name": "stdout",
     "output_type": "stream",
     "text": [
      "(5046, 10498)\n"
     ]
    }
   ],
   "source": [
    "print(X.shape)"
   ]
  },
  {
   "cell_type": "code",
   "execution_count": 93,
   "metadata": {},
   "outputs": [
    {
     "name": "stdout",
     "output_type": "stream",
     "text": [
      "  (0, 6331)\t0.5966520938901931\n",
      "  (0, 4829)\t0.5966520938901931\n",
      "  (0, 10414)\t0.5366680144306126\n"
     ]
    }
   ],
   "source": [
    "print(X[0])"
   ]
  },
  {
   "cell_type": "code",
   "execution_count": 66,
   "metadata": {},
   "outputs": [
    {
     "data": {
      "text/plain": [
       "'mx3'"
      ]
     },
     "execution_count": 66,
     "metadata": {},
     "output_type": "execute_result"
    }
   ],
   "source": [
    "names[6377]"
   ]
  },
  {
   "cell_type": "code",
   "execution_count": 67,
   "metadata": {},
   "outputs": [
    {
     "name": "stdout",
     "output_type": "stream",
     "text": [
      "The ATH-A990z might work for you if you don't need huge bass.  Good for gaming.\n"
     ]
    }
   ],
   "source": [
    "print(corpus[2])"
   ]
  },
  {
   "cell_type": "code",
   "execution_count": 68,
   "metadata": {},
   "outputs": [
    {
     "name": "stdout",
     "output_type": "stream",
     "text": [
      "  (0, 4259)\t0.2682356550536145\n",
      "  (0, 4380)\t0.19641141435637607\n",
      "  (0, 1578)\t0.23634484050223256\n",
      "  (0, 4848)\t0.4065476424704948\n",
      "  (0, 6435)\t0.27036756121903877\n",
      "  (0, 3256)\t0.21886007998140844\n",
      "  (0, 10301)\t0.3020413729693875\n",
      "  (0, 775)\t0.5716825428620484\n",
      "  (0, 1303)\t0.35956090842956456\n"
     ]
    }
   ],
   "source": [
    "print(X[2])"
   ]
  },
  {
   "cell_type": "code",
   "execution_count": 84,
   "metadata": {},
   "outputs": [],
   "source": [
    "x_arr = X.toarray()"
   ]
  },
  {
   "cell_type": "code",
   "execution_count": 73,
   "metadata": {},
   "outputs": [
    {
     "data": {
      "text/plain": [
       "(5046, 10781)"
      ]
     },
     "execution_count": 73,
     "metadata": {},
     "output_type": "execute_result"
    }
   ],
   "source": [
    "x_arr.shape\n"
   ]
  },
  {
   "cell_type": "code",
   "execution_count": 76,
   "metadata": {},
   "outputs": [
    {
     "data": {
      "text/plain": [
       "array([1.50556617, 1.00478277, 0.39691569, ..., 0.37332956, 0.37332956,\n",
       "       0.37332956])"
      ]
     },
     "execution_count": 76,
     "metadata": {},
     "output_type": "execute_result"
    }
   ],
   "source": [
    "x_arr.sum(axis=0)"
   ]
  },
  {
   "cell_type": "code",
   "execution_count": null,
   "metadata": {},
   "outputs": [],
   "source": []
  },
  {
   "cell_type": "code",
   "execution_count": 40,
   "metadata": {},
   "outputs": [
    {
     "name": "stdout",
     "output_type": "stream",
     "text": [
      "yamaha\n"
     ]
    }
   ],
   "source": [
    "print(names[10692])"
   ]
  },
  {
   "cell_type": "code",
   "execution_count": 44,
   "metadata": {},
   "outputs": [
    {
     "data": {
      "text/plain": [
       "array([10692,  6477,  4947])"
      ]
     },
     "execution_count": 44,
     "metadata": {},
     "output_type": "execute_result"
    }
   ],
   "source": [
    "#arr.argsort()[-3:][::-1]\n",
    "x_arr[0].argsort()[-3:]"
   ]
  },
  {
   "cell_type": "code",
   "execution_count": 46,
   "metadata": {},
   "outputs": [
    {
     "data": {
      "text/plain": [
       "array([8867, 5211, 3706, 7401, 9587])"
      ]
     },
     "execution_count": 46,
     "metadata": {},
     "output_type": "execute_result"
    }
   ],
   "source": [
    "x_arr[1].argsort()[-5:]"
   ]
  },
  {
   "cell_type": "code",
   "execution_count": 53,
   "metadata": {},
   "outputs": [
    {
     "data": {
      "text/plain": [
       "'soon'"
      ]
     },
     "execution_count": 53,
     "metadata": {},
     "output_type": "execute_result"
    }
   ],
   "source": [
    "names[8867]"
   ]
  },
  {
   "cell_type": "code",
   "execution_count": 48,
   "metadata": {},
   "outputs": [
    {
     "name": "stdout",
     "output_type": "stream",
     "text": [
      "These look fantastic. Reviews seem to be almost entirely positive too. As soon as I find some information on the soundstage I may have to pick these up.\n",
      "\n",
      "Thanks!\n"
     ]
    }
   ],
   "source": [
    "print(corpus[1])"
   ]
  },
  {
   "cell_type": "code",
   "execution_count": 80,
   "metadata": {},
   "outputs": [],
   "source": [
    "word_index = vectorizer.vocabulary_"
   ]
  },
  {
   "cell_type": "code",
   "execution_count": 81,
   "metadata": {},
   "outputs": [],
   "source": [
    "index_to_word = {i: w for w, i in word_index.items()}"
   ]
  },
  {
   "cell_type": "code",
   "execution_count": 82,
   "metadata": {},
   "outputs": [
    {
     "name": "stdout",
     "output_type": "stream",
     "text": [
      "10498\n"
     ]
    }
   ],
   "source": [
    "print(len(index_to_word))"
   ]
  },
  {
   "cell_type": "code",
   "execution_count": 147,
   "metadata": {},
   "outputs": [
    {
     "name": "stdout",
     "output_type": "stream",
     "text": [
      "Yamaha HPH MT8\n",
      "['efficency', 'efficiency', 'efficient', 'effort', 'effortlessly', 'effects', '𝘪𝘯', 'yamaha', 'hph', 'mt8']\n",
      "These look fantastic. Reviews seem to be almost entirely positive too. As soon as I find some information on the soundstage I may have to pick these up.\n",
      "\n",
      "Thanks!\n",
      "['look', 'thanks', 'soundstage', 'reviews', 'fantastic', 'pick', 'soon', 'information', 'entirely', 'positive']\n",
      "The ATH-A990z might work for you if you don't need huge bass.  Good for gaming.\n",
      "['effed', 'good', 'don', 'bass', 'gaming', 'need', 'work', 'ath', 'huge', 'a990z']\n",
      "Yeah I’ll have to check those out. I bought the A550Z’s recently but can’t help but feel like I’m missing out on something. I’m looking to really experience music like I’m *apparently* meant to.\n",
      "['check', 'feel', 'help', 'bought', 'like', 'recently', 'meant', 'apparently', 'missing', 'a550z']\n",
      "I use the AKG K553 in the office everyday.  I think they are very good if you can get them around $150.  The new Mk II version has removeable cables which is a nice improvement over the original.\n",
      "['150', 'cables', 'ii', 'improvement', 'original', 'office', 'mk', 'k553', 'everyday', 'removeable']\n",
      "Yeah I’ve been eyeballing those, couldn’t find any reviews that actually stated how different they were to the 550’s but I’ll likely go for them.\n",
      "['ll', 'different', 'actually', 'yeah', 'reviews', 'likely', '550', 'couldn', 'stated', 'eyeballing']\n",
      "I had the K550 before and now the K553.  The K553 has a bit more bass but otherwise essentially the same.\n",
      "['efficient', 'effort', 'effortlessly', 'effects', '𝘪𝘯', 'bass', 'bit', 'essentially', 'k550', 'k553']\n",
      "Perfect, I think that’s all I need to know.\n",
      "\n",
      "Cheers!\n",
      "['effed', 'efficency', 'efficiency', 'efficient', 'effectiveness', 'think', 'know', 'need', 'perfect', 'cheers']\n",
      "My Meze 99 Neo was around that price tag iirc. I really enjoy them. They sound really good imo, little bit bassy but not to much. Also best headband I've ever had on headphones. Their design is quite special though, but I like how they look. Hope this helps :) \n",
      "['design', 'bassy', 'meze', 'headband', 'helps', 'really', 'tag', 'special', 'neo', 'iirc']\n",
      "My Meze 99 Neo was around that price tag iirc. I really enjoy them. They sound really good imo, little bit bassy but not to much. Also best headband I've ever had on headphones. Their design is quite special though, but I like how they look. Hope this helps :) \n",
      "['design', 'bassy', 'meze', 'headband', 'helps', 'really', 'tag', 'special', 'neo', 'iirc']\n",
      "My Meze 99 Neo was around that price tag iirc. I really enjoy them. They sound really good imo, little bit bassy but not to much. Also best headband I've ever had on headphones. Their design is quite special though, but I like how they look. Hope this helps :) \n",
      "['design', 'bassy', 'meze', 'headband', 'helps', 'really', 'tag', 'special', 'neo', 'iirc']\n"
     ]
    }
   ],
   "source": [
    "# for each comment in corpus, what is the top-10 most important words:\n",
    "for i, c in enumerate(corpus):\n",
    "    print(c)\n",
    "    print([index_to_word[j] for j in x_arr[i].argsort()[-10:]])\n",
    "    if i > 9 :\n",
    "        break"
   ]
  },
  {
   "cell_type": "code",
   "execution_count": 61,
   "metadata": {},
   "outputs": [
    {
     "name": "stdout",
     "output_type": "stream",
     "text": [
      "10781\n"
     ]
    }
   ],
   "source": [
    "# includes stop_words\n",
    "print(len(index_to_word))"
   ]
  },
  {
   "cell_type": "code",
   "execution_count": 104,
   "metadata": {},
   "outputs": [],
   "source": [
    "brands = []\n",
    "with open('../data/product_data/brands.txt') as f:\n",
    "    for l in f:\n",
    "        brands.append(l.rstrip())"
   ]
  },
  {
   "cell_type": "code",
   "execution_count": 105,
   "metadata": {},
   "outputs": [
    {
     "data": {
      "text/plain": [
       "['sanus',\n",
       " 'boytone',\n",
       " 'denaq',\n",
       " 'dreamwave',\n",
       " 'yamaha',\n",
       " 'universal remote control',\n",
       " 'bose',\n",
       " 'samsung',\n",
       " 'corsair',\n",
       " 'outdoor tech',\n",
       " 'motorola',\n",
       " 'wd',\n",
       " 'panamax',\n",
       " 'alpine',\n",
       " 'transcend',\n",
       " 'mee audio',\n",
       " 'speakercraft',\n",
       " 'peerless',\n",
       " 'kenwood',\n",
       " 'microsoft',\n",
       " 'ultimate ears',\n",
       " 'niles',\n",
       " 'peak design',\n",
       " 'lowepro',\n",
       " 'sdi technologies, inc.',\n",
       " 'polk audio',\n",
       " 'apple',\n",
       " 'peerless-av',\n",
       " 'denon',\n",
       " 'lenovo',\n",
       " 'elite screens',\n",
       " 'sony',\n",
       " 'russound',\n",
       " 'svs',\n",
       " 'hisense',\n",
       " 'house of marley',\n",
       " 'midland',\n",
       " 'marantz',\n",
       " 'jvc',\n",
       " 'isimple',\n",
       " 'chief',\n",
       " 'turtle beach',\n",
       " 'audioquest',\n",
       " 'toshiba',\n",
       " 'logitech',\n",
       " 'siriusxm',\n",
       " 'pny',\n",
       " 'jbl',\n",
       " 'kicker',\n",
       " 'kanto living',\n",
       " 'mtx',\n",
       " 'sling media',\n",
       " 'power acoustik',\n",
       " 'sandisk',\n",
       " 'novatel',\n",
       " 'skullcandy',\n",
       " 'asus',\n",
       " 'martinlogan',\n",
       " 'pioneer',\n",
       " 'belkin',\n",
       " 'vinpower digital directship',\n",
       " 'dell',\n",
       " 'pelican',\n",
       " 'razer',\n",
       " 'alienware',\n",
       " 'canon',\n",
       " 'sharp',\n",
       " 'olympus',\n",
       " 'house of marley',\n",
       " 'netgear',\n",
       " 'hoya',\n",
       " 'tp-link',\n",
       " 'digipower',\n",
       " 'corsair',\n",
       " 'onkyo',\n",
       " 'definitive technology',\n",
       " 'innovative technology',\n",
       " 'panasonic',\n",
       " 'master dynamic',\n",
       " 'klipsch',\n",
       " 'sima',\n",
       " 'clarity-telecom',\n",
       " 'lg',\n",
       " 'belkin inc.',\n",
       " 'msi',\n",
       " 'kef',\n",
       " 'aftershokz',\n",
       " 'zubie',\n",
       " 'ecoxgear',\n",
       " 'panamx',\n",
       " 'rand mcnally',\n",
       " 'startech',\n",
       " 'zte',\n",
       " 'tivo',\n",
       " 'garmin',\n",
       " 'tp-link',\n",
       " 'jbl',\n",
       " 'acer',\n",
       " 'sandisk',\n",
       " 'fitbit',\n",
       " 'sol republic',\n",
       " 'kanto',\n",
       " 'planet audio',\n",
       " 'xfx',\n",
       " 'iogear',\n",
       " 'cerwin vega',\n",
       " 'cybertronpc',\n",
       " 'grace digital',\n",
       " 'g-technology',\n",
       " 'goal zero',\n",
       " 'sennheiser',\n",
       " 'aoc',\n",
       " 'actiontec',\n",
       " 'v-moda',\n",
       " 'manfrotto',\n",
       " 'atrend',\n",
       " 'aiwa',\n",
       " 'tenba',\n",
       " 'denon - heos',\n",
       " 'sunbritetv',\n",
       " 'monster',\n",
       " 'mtx audio',\n",
       " 'skb',\n",
       " 'bose®',\n",
       " 'viewsonic',\n",
       " 'motorola home',\n",
       " 'polaroid',\n",
       " 'case logic',\n",
       " 'gopro',\n",
       " 'sigma',\n",
       " 'sonax',\n",
       " 'memorex',\n",
       " 'cerwin-vega',\n",
       " 'hauppauge',\n",
       " 'thule',\n",
       " 'antec',\n",
       " 'netgear',\n",
       " 'hp',\n",
       " 'bowers & wilkins',\n",
       " 'geko',\n",
       " 'pyle pro',\n",
       " 'virgin mobile',\n",
       " 'steelseries',\n",
       " 'wacom',\n",
       " 'viper',\n",
       " 'leef',\n",
       " 'kate spade new york',\n",
       " 'seagate',\n",
       " 'insignia',\n",
       " 'epson',\n",
       " 'arris',\n",
       " 'dual',\n",
       " 'silicondust',\n",
       " 'zoom',\n",
       " 'vxi',\n",
       " 'nvidia',\n",
       " 'j5create',\n",
       " 'zmodo',\n",
       " 'escort',\n",
       " 'tivo',\n",
       " 'rode',\n",
       " 'audioquest',\n",
       " 'incipio',\n",
       " 'startech.com',\n",
       " 'sylvania',\n",
       " 'aftershokz',\n",
       " 'mee audio',\n",
       " 'jensen',\n",
       " 'mophie',\n",
       " 'sol republic',\n",
       " 'nzxt',\n",
       " 'visidec',\n",
       " 'master & dynamic',\n",
       " 'zagg',\n",
       " 'cooler master',\n",
       " 'pyle',\n",
       " 'anker',\n",
       " 'retrak',\n",
       " 'vizio',\n",
       " 'western digital',\n",
       " 'kingston',\n",
       " 'intel',\n",
       " 'kicker',\n",
       " 'victrola',\n",
       " 'bic america',\n",
       " 'insignia™',\n",
       " 'optoma',\n",
       " 'joby',\n",
       " 'speck',\n",
       " 'braven',\n",
       " 'aluratek',\n",
       " 'kensington',\n",
       " 'omnimount',\n",
       " 'bower',\n",
       " 'secur',\n",
       " 'sound design',\n",
       " 'visiontek',\n",
       " 'papago',\n",
       " 'mevo',\n",
       " 'sideclick',\n",
       " 'pny',\n",
       " 'x6d',\n",
       " 'sunpak',\n",
       " 'diamond multimedia',\n",
       " 'jvcm',\n",
       " 'pyle',\n",
       " 'isimple',\n",
       " 'tcl',\n",
       " 'jaybird',\n",
       " 'lorex',\n",
       " 'sanus',\n",
       " 'jabra',\n",
       " 'pro-ject',\n",
       " 'd-link',\n",
       " 'presonus',\n",
       " 'i.am+',\n",
       " 'lifeproof',\n",
       " 'fugoo',\n",
       " 'ilive',\n",
       " 'crosley',\n",
       " 'pylehome',\n",
       " 'westone',\n",
       " 'spartan',\n",
       " 'cobra electronics',\n",
       " 'sabrent',\n",
       " 'klipsch xr8i in-ear headphones',\n",
       " 'buffalo',\n",
       " 'eco style',\n",
       " 'linksys',\n",
       " 'nikon',\n",
       " 'siriusxm',\n",
       " 'energizer',\n",
       " 'google',\n",
       " 'tiffen',\n",
       " 'v-moda',\n",
       " 'sonos',\n",
       " 'fusion marine',\n",
       " 'sengled',\n",
       " 'online',\n",
       " 'asus',\n",
       " 'urban armor gear',\n",
       " 'buffalo technology',\n",
       " 'evga',\n",
       " 'hyperx',\n",
       " 'boyo',\n",
       " 'beats',\n",
       " '360fly',\n",
       " 'rca',\n",
       " 'sherwood',\n",
       " 'ghostek',\n",
       " 'benq',\n",
       " 'cobra',\n",
       " 'sharkk',\n",
       " 'sonic alert',\n",
       " 'm-audio',\n",
       " 'thermaltake',\n",
       " 'skybell',\n",
       " 'incase',\n",
       " 'ricoh',\n",
       " 'ihome',\n",
       " 'twelve south',\n",
       " 'ogio',\n",
       " 'lg',\n",
       " 'mohu',\n",
       " 'pelican',\n",
       " 'jvc',\n",
       " 'vizio, inc',\n",
       " 'tablo',\n",
       " 'gopro',\n",
       " 'audiovox',\n",
       " 'canary',\n",
       " 'tomtom',\n",
       " 'att',\n",
       " 'cujo',\n",
       " 'targus',\n",
       " 'solo',\n",
       " 'blue microphones',\n",
       " 'harman kardon',\n",
       " 'monument labs',\n",
       " 'thecus',\n",
       " 'metra',\n",
       " 'vizio',\n",
       " 'amazon',\n",
       " 'mycharge',\n",
       " 'rode',\n",
       " 'gemini',\n",
       " 'sunbritetv',\n",
       " 'teac',\n",
       " 'iottie',\n",
       " 'zivix',\n",
       " 'hmdx',\n",
       " 'canvio',\n",
       " 'rocketfish',\n",
       " 'crane',\n",
       " 'ginsu',\n",
       " 'pro-ject audio systems',\n",
       " 'philips',\n",
       " 'amd',\n",
       " 'westinghouse',\n",
       " 'audio-technica',\n",
       " 'soundcast',\n",
       " 'denaq',\n",
       " ': polk audio',\n",
       " 'evga',\n",
       " 'fujifilm',\n",
       " 'otterbox',\n",
       " 'flexson',\n",
       " 'magellan',\n",
       " 'nada',\n",
       " 'jlab',\n",
       " 'beyerdynamic',\n",
       " 'akg']"
      ]
     },
     "execution_count": 105,
     "metadata": {},
     "output_type": "execute_result"
    }
   ],
   "source": [
    "brands"
   ]
  },
  {
   "cell_type": "code",
   "execution_count": 106,
   "metadata": {},
   "outputs": [],
   "source": [
    "from spacy.tokenizer import Tokenizer"
   ]
  },
  {
   "cell_type": "code",
   "execution_count": 125,
   "metadata": {},
   "outputs": [],
   "source": [
    "# Construction 2 (SpaCy.io)\n",
    "from spacy.lang.en import English\n",
    "nlp = English()\n",
    "# Create a Tokenizer with the default settings for English\n",
    "# including punctuation and exceptions\n",
    "tokenizer = nlp.Defaults.create_tokenizer(nlp)"
   ]
  },
  {
   "cell_type": "code",
   "execution_count": 126,
   "metadata": {},
   "outputs": [],
   "source": [
    "tokens = tokenizer(\"Yo can you tokenize something if Bose's it doesn't deserve it?\")"
   ]
  },
  {
   "cell_type": "code",
   "execution_count": 127,
   "metadata": {},
   "outputs": [
    {
     "data": {
      "text/plain": [
       "spacy.tokens.doc.Doc"
      ]
     },
     "execution_count": 127,
     "metadata": {},
     "output_type": "execute_result"
    }
   ],
   "source": [
    "type(tokens)"
   ]
  },
  {
   "cell_type": "code",
   "execution_count": 128,
   "metadata": {},
   "outputs": [
    {
     "name": "stdout",
     "output_type": "stream",
     "text": [
      "['Yo', 'can', 'you', 'tokenize', 'something', 'if', 'Bose', \"'s\", 'it', 'does', \"n't\", 'deserve', 'it', '?']\n"
     ]
    }
   ],
   "source": [
    "print([\"{}\".format(t) for t in tokens])"
   ]
  },
  {
   "cell_type": "code",
   "execution_count": 139,
   "metadata": {},
   "outputs": [],
   "source": [
    "# Convert to strings\n",
    "tokens_list = [t.orth_ for t in tokens]"
   ]
  },
  {
   "cell_type": "code",
   "execution_count": 129,
   "metadata": {},
   "outputs": [],
   "source": [
    "token_set = set(tokens)"
   ]
  },
  {
   "cell_type": "code",
   "execution_count": 142,
   "metadata": {},
   "outputs": [
    {
     "data": {
      "text/plain": [
       "{Yo,\n",
       " can,\n",
       " you,\n",
       " tokenize,\n",
       " something,\n",
       " if,\n",
       " Bose,\n",
       " 's,\n",
       " it,\n",
       " does,\n",
       " n't,\n",
       " deserve,\n",
       " it,\n",
       " ?}"
      ]
     },
     "execution_count": 142,
     "metadata": {},
     "output_type": "execute_result"
    }
   ],
   "source": [
    "token_set"
   ]
  },
  {
   "cell_type": "code",
   "execution_count": 131,
   "metadata": {},
   "outputs": [
    {
     "data": {
      "text/plain": [
       "False"
      ]
     },
     "execution_count": 131,
     "metadata": {},
     "output_type": "execute_result"
    }
   ],
   "source": [
    "'can' in token_set"
   ]
  },
  {
   "cell_type": "code",
   "execution_count": 144,
   "metadata": {},
   "outputs": [
    {
     "data": {
      "text/plain": [
       "str"
      ]
     },
     "execution_count": 144,
     "metadata": {},
     "output_type": "execute_result"
    }
   ],
   "source": [
    "'can' in list(tokens)"
   ]
  },
  {
   "cell_type": "code",
   "execution_count": null,
   "metadata": {},
   "outputs": [],
   "source": [
    "# Almost done:\n",
    "\n",
    "# Get entity: [comments] maps,\n",
    "# Run TF-IDF on this where groups of comments are \"documents\""
   ]
  }
 ],
 "metadata": {
  "kernelspec": {
   "display_name": "Python 3.7.4 64-bit ('py3b': conda)",
   "language": "python",
   "name": "python37464bitpy3bconda9e63d4e9c0474755b9b5cc46d4cddbaf"
  },
  "language_info": {
   "codemirror_mode": {
    "name": "ipython",
    "version": 3
   },
   "file_extension": ".py",
   "mimetype": "text/x-python",
   "name": "python",
   "nbconvert_exporter": "python",
   "pygments_lexer": "ipython3",
   "version": "3.7.4"
  }
 },
 "nbformat": 4,
 "nbformat_minor": 2
}
