{
 "cells": [
  {
   "cell_type": "code",
   "execution_count": 1,
   "metadata": {},
   "outputs": [],
   "source": [
    "import json\n",
    "import spacy\n",
    "import nltk\n",
    "import requests\n",
    "import sys\n",
    "import datetime\n",
    "import pandas as pd\n",
    "import matplotlib.pyplot as plt"
   ]
  },
  {
   "cell_type": "code",
   "execution_count": 2,
   "metadata": {},
   "outputs": [],
   "source": [
    "sys.path.append(\"..\")\n",
    "from crowdrank import interpreter\n",
    "from crowdrank import postprocessing"
   ]
  },
  {
   "cell_type": "markdown",
   "metadata": {},
   "source": []
  },
  {
   "cell_type": "code",
   "execution_count": 4,
   "metadata": {},
   "outputs": [],
   "source": [
    "df_ranking = pd.read_csv(\"../data/results/Headphones_360.csv\", index_col=False)"
   ]
  },
  {
   "cell_type": "code",
   "execution_count": 5,
   "metadata": {},
   "outputs": [
    {
     "data": {
      "text/html": [
       "<div>\n",
       "<style scoped>\n",
       "    .dataframe tbody tr th:only-of-type {\n",
       "        vertical-align: middle;\n",
       "    }\n",
       "\n",
       "    .dataframe tbody tr th {\n",
       "        vertical-align: top;\n",
       "    }\n",
       "\n",
       "    .dataframe thead th {\n",
       "        text-align: right;\n",
       "    }\n",
       "</style>\n",
       "<table border=\"1\" class=\"dataframe\">\n",
       "  <thead>\n",
       "    <tr style=\"text-align: right;\">\n",
       "      <th></th>\n",
       "      <th>Brands</th>\n",
       "      <th>Sentiment</th>\n",
       "      <th>Popularity</th>\n",
       "      <th>Variance</th>\n",
       "    </tr>\n",
       "  </thead>\n",
       "  <tbody>\n",
       "    <tr>\n",
       "      <th>0</th>\n",
       "      <td>onkyo</td>\n",
       "      <td>0.30</td>\n",
       "      <td>13</td>\n",
       "      <td>12.79</td>\n",
       "    </tr>\n",
       "    <tr>\n",
       "      <th>1</th>\n",
       "      <td>logitech</td>\n",
       "      <td>0.30</td>\n",
       "      <td>14</td>\n",
       "      <td>14.74</td>\n",
       "    </tr>\n",
       "    <tr>\n",
       "      <th>2</th>\n",
       "      <td>amazon</td>\n",
       "      <td>0.28</td>\n",
       "      <td>48</td>\n",
       "      <td>174.52</td>\n",
       "    </tr>\n",
       "    <tr>\n",
       "      <th>3</th>\n",
       "      <td>svs</td>\n",
       "      <td>0.26</td>\n",
       "      <td>5</td>\n",
       "      <td>1.09</td>\n",
       "    </tr>\n",
       "    <tr>\n",
       "      <th>4</th>\n",
       "      <td>marantz</td>\n",
       "      <td>0.26</td>\n",
       "      <td>4</td>\n",
       "      <td>0.61</td>\n",
       "    </tr>\n",
       "    <tr>\n",
       "      <th>5</th>\n",
       "      <td>jbl</td>\n",
       "      <td>0.26</td>\n",
       "      <td>26</td>\n",
       "      <td>41.49</td>\n",
       "    </tr>\n",
       "    <tr>\n",
       "      <th>6</th>\n",
       "      <td>kef</td>\n",
       "      <td>0.24</td>\n",
       "      <td>19</td>\n",
       "      <td>19.04</td>\n",
       "    </tr>\n",
       "    <tr>\n",
       "      <th>7</th>\n",
       "      <td>intel</td>\n",
       "      <td>0.23</td>\n",
       "      <td>4</td>\n",
       "      <td>0.48</td>\n",
       "    </tr>\n",
       "    <tr>\n",
       "      <th>8</th>\n",
       "      <td>msi</td>\n",
       "      <td>0.20</td>\n",
       "      <td>4</td>\n",
       "      <td>0.37</td>\n",
       "    </tr>\n",
       "    <tr>\n",
       "      <th>9</th>\n",
       "      <td>sennheiser</td>\n",
       "      <td>0.19</td>\n",
       "      <td>30</td>\n",
       "      <td>31.04</td>\n",
       "    </tr>\n",
       "    <tr>\n",
       "      <th>10</th>\n",
       "      <td>klipsch</td>\n",
       "      <td>0.18</td>\n",
       "      <td>27</td>\n",
       "      <td>21.02</td>\n",
       "    </tr>\n",
       "    <tr>\n",
       "      <th>11</th>\n",
       "      <td>sony</td>\n",
       "      <td>0.15</td>\n",
       "      <td>40</td>\n",
       "      <td>34.27</td>\n",
       "    </tr>\n",
       "    <tr>\n",
       "      <th>12</th>\n",
       "      <td>yamaha</td>\n",
       "      <td>0.14</td>\n",
       "      <td>16</td>\n",
       "      <td>4.40</td>\n",
       "    </tr>\n",
       "    <tr>\n",
       "      <th>13</th>\n",
       "      <td>rocketfish</td>\n",
       "      <td>0.12</td>\n",
       "      <td>3</td>\n",
       "      <td>0.06</td>\n",
       "    </tr>\n",
       "    <tr>\n",
       "      <th>14</th>\n",
       "      <td>rca</td>\n",
       "      <td>0.12</td>\n",
       "      <td>8</td>\n",
       "      <td>0.67</td>\n",
       "    </tr>\n",
       "    <tr>\n",
       "      <th>15</th>\n",
       "      <td>bose</td>\n",
       "      <td>0.11</td>\n",
       "      <td>21</td>\n",
       "      <td>4.93</td>\n",
       "    </tr>\n",
       "    <tr>\n",
       "      <th>16</th>\n",
       "      <td>denon</td>\n",
       "      <td>0.09</td>\n",
       "      <td>27</td>\n",
       "      <td>5.98</td>\n",
       "    </tr>\n",
       "    <tr>\n",
       "      <th>17</th>\n",
       "      <td>pioneer</td>\n",
       "      <td>0.04</td>\n",
       "      <td>12</td>\n",
       "      <td>0.24</td>\n",
       "    </tr>\n",
       "    <tr>\n",
       "      <th>18</th>\n",
       "      <td>teac</td>\n",
       "      <td>0.00</td>\n",
       "      <td>3</td>\n",
       "      <td>0.00</td>\n",
       "    </tr>\n",
       "    <tr>\n",
       "      <th>19</th>\n",
       "      <td>beyerdynamic</td>\n",
       "      <td>-0.03</td>\n",
       "      <td>7</td>\n",
       "      <td>0.04</td>\n",
       "    </tr>\n",
       "    <tr>\n",
       "      <th>20</th>\n",
       "      <td>asus</td>\n",
       "      <td>-0.16</td>\n",
       "      <td>5</td>\n",
       "      <td>0.41</td>\n",
       "    </tr>\n",
       "  </tbody>\n",
       "</table>\n",
       "</div>"
      ],
      "text/plain": [
       "          Brands  Sentiment  Popularity  Variance\n",
       "0          onkyo       0.30          13     12.79\n",
       "1       logitech       0.30          14     14.74\n",
       "2         amazon       0.28          48    174.52\n",
       "3            svs       0.26           5      1.09\n",
       "4        marantz       0.26           4      0.61\n",
       "5            jbl       0.26          26     41.49\n",
       "6            kef       0.24          19     19.04\n",
       "7          intel       0.23           4      0.48\n",
       "8            msi       0.20           4      0.37\n",
       "9     sennheiser       0.19          30     31.04\n",
       "10       klipsch       0.18          27     21.02\n",
       "11          sony       0.15          40     34.27\n",
       "12        yamaha       0.14          16      4.40\n",
       "13    rocketfish       0.12           3      0.06\n",
       "14           rca       0.12           8      0.67\n",
       "15          bose       0.11          21      4.93\n",
       "16         denon       0.09          27      5.98\n",
       "17       pioneer       0.04          12      0.24\n",
       "18          teac       0.00           3      0.00\n",
       "19  beyerdynamic      -0.03           7      0.04\n",
       "20          asus      -0.16           5      0.41"
      ]
     },
     "execution_count": 5,
     "metadata": {},
     "output_type": "execute_result"
    }
   ],
   "source": [
    "df_ranking.columns = ['Brands', 'Sentiment', 'Popularity', 'Variance']\n",
    "df_ranking"
   ]
  },
  {
   "cell_type": "code",
   "execution_count": 6,
   "metadata": {},
   "outputs": [],
   "source": [
    "# For each comment..., if it contains one of these words, grab the next word:\n",
    "#interpreter.get_and_interpret(['headphoneadvice'], 'Headphones')\n",
    "comments_upvotes = interpreter.get_local('headphoneadvice', 360)"
   ]
  },
  {
   "cell_type": "code",
   "execution_count": 32,
   "metadata": {},
   "outputs": [
    {
     "data": {
      "text/plain": [
       "[('Why not try some Takstar Pro 82s?', 1),\n",
       " ('Beyerdynamics dt 1770?', 1),\n",
       " ('[removed]', 1),\n",
       " (\"From Focal to TakStar? I love my TakStars, but that's like suggesting a BMW driver look at a Kia. Not gonna fly.\",\n",
       "  1),\n",
       " ('Agree with this! Since I own both 1990 and 1770. I use DT1990 for gaming but the 1770 ones is still really good if you want closed ones.',\n",
       "  1),\n",
       " ('Mr. Speakers Ether Flow C is my personal favorite closed back.', 1),\n",
       " ('Idk man just trying to help. So sorry I suggested something.', 3),\n",
       " (\"Are DT1990s good for gaming? What amp do you use? I'm considering to buy them or DT990\",\n",
       "  1),\n",
       " ('They are amazing for gaming and music.\\nI had FiiO E10K at first and were superhappy with it but as always you samma upgrade and now I use the chord mojo.',\n",
       "  2),\n",
       " (\"Thank you. Guess I'll buy them soon. I hope E10K will be able to drive them good before I buy something better\",\n",
       "  1)]"
      ]
     },
     "execution_count": 32,
     "metadata": {},
     "output_type": "execute_result"
    }
   ],
   "source": [
    "comments_upvotes[:10]"
   ]
  },
  {
   "cell_type": "markdown",
   "metadata": {},
   "source": [
    "## Testing if a wider context results in \"more sentiment\"\n",
    "There is a significant fraction of interpreted entity data where the sentiment from VADER was 0.0...\n",
    "The short EDA below shows this is probably because people say things like \"I use the BOSE SH500s. I\n",
    "love them because...\". If we sentencize and only look at the sentiment from the sentence, we get 0.0."
   ]
  },
  {
   "cell_type": "code",
   "execution_count": 9,
   "metadata": {},
   "outputs": [],
   "source": [
    "kb = interpreter.Knowledgebase(comments_upvotes)"
   ]
  },
  {
   "cell_type": "code",
   "execution_count": 12,
   "metadata": {},
   "outputs": [],
   "source": [
    "prod_sentiments_narrow = kb.interpret_with_sentiment()"
   ]
  },
  {
   "cell_type": "code",
   "execution_count": 13,
   "metadata": {},
   "outputs": [],
   "source": [
    "prod_sentiments_wide = kb.interpret_with_sentiment('wide')"
   ]
  },
  {
   "cell_type": "code",
   "execution_count": 16,
   "metadata": {},
   "outputs": [
    {
     "name": "stdout",
     "output_type": "stream",
     "text": [
      "244\n"
     ]
    },
    {
     "data": {
      "text/plain": [
       "(array([  5.,  13.,  23.,  24., 260.,  22.,  75.,  62.,  48.,  31.]),\n",
       " array([-0.7759 , -0.60403, -0.43216, -0.26029, -0.08842,  0.08345,\n",
       "         0.25532,  0.42719,  0.59906,  0.77093,  0.9428 ]),\n",
       " <a list of 10 Patch objects>)"
      ]
     },
     "execution_count": 16,
     "metadata": {},
     "output_type": "execute_result"
    },
    {
     "data": {
      "image/png": "[encoded data removed]",
      "text/plain": [
       "<Figure size 432x288 with 1 Axes>"
      ]
     },
     "metadata": {
      "needs_background": "light"
     },
     "output_type": "display_data"
    }
   ],
   "source": [
    "# Compare histograms of prod_sentiments_wide and prod_sentiments_narrow\n",
    "# 2D plot of one vs the other\n",
    "print([s[1] for s in prod_sentiments_narrow].count(0))\n",
    "plt.hist([s[1] for s in prod_sentiments_narrow])"
   ]
  },
  {
   "cell_type": "code",
   "execution_count": 17,
   "metadata": {},
   "outputs": [
    {
     "name": "stdout",
     "output_type": "stream",
     "text": [
      "56\n"
     ]
    },
    {
     "data": {
      "text/plain": [
       "(array([ 21.,  13.,   9.,  20.,  83.,  15.,  47.,  52.,  86., 222.]),\n",
       " array([-0.937  , -0.74346, -0.54992, -0.35638, -0.16284,  0.0307 ,\n",
       "         0.22424,  0.41778,  0.61132,  0.80486,  0.9984 ]),\n",
       " <a list of 10 Patch objects>)"
      ]
     },
     "execution_count": 17,
     "metadata": {},
     "output_type": "execute_result"
    },
    {
     "data": {
      "image/png": "[encoded data removed]",
      "text/plain": [
       "<Figure size 432x288 with 1 Axes>"
      ]
     },
     "metadata": {
      "needs_background": "light"
     },
     "output_type": "display_data"
    }
   ],
   "source": [
    "print([s[1] for s in prod_sentiments_wide].count(0))\n",
    "\n",
    "plt.hist([s[1] for s in prod_sentiments_wide])"
   ]
  },
  {
   "cell_type": "code",
   "execution_count": 21,
   "metadata": {},
   "outputs": [
    {
     "data": {
      "text/plain": [
       "<matplotlib.collections.PathCollection at 0x1a229cafd0>"
      ]
     },
     "execution_count": 21,
     "metadata": {},
     "output_type": "execute_result"
    },
    {
     "data": {
      "image/png": "[encoded data removed]",
      "text/plain": [
       "<Figure size 432x288 with 1 Axes>"
      ]
     },
     "metadata": {
      "needs_background": "light"
     },
     "output_type": "display_data"
    }
   ],
   "source": [
    "plt.scatter([s[2] for s in prod_sentiments_narrow], [s[1] for s in prod_sentiments_narrow])"
   ]
  },
  {
   "cell_type": "code",
   "execution_count": 31,
   "metadata": {},
   "outputs": [
    {
     "data": {
      "text/plain": [
       "<matplotlib.colorbar.Colorbar at 0x1a2674ab10>"
      ]
     },
     "execution_count": 31,
     "metadata": {},
     "output_type": "execute_result"
    },
    {
     "data": {
      "image/png": "[encoded data removed]",
      "text/plain": [
       "<Figure size 432x288 with 2 Axes>"
      ]
     },
     "metadata": {
      "needs_background": "light"
     },
     "output_type": "display_data"
    }
   ],
   "source": [
    "plt.hist2d([s[2] for s in prod_sentiments_narrow if s[2] <= 4], [s[1] for s in prod_sentiments_narrow if s[2] <= 4], cmap=plt.cm.jet)\n",
    "plt.colorbar()"
   ]
  },
  {
   "cell_type": "code",
   "execution_count": 20,
   "metadata": {},
   "outputs": [
    {
     "data": {
      "text/plain": [
       "<matplotlib.collections.PathCollection at 0x1a23a4d910>"
      ]
     },
     "execution_count": 20,
     "metadata": {},
     "output_type": "execute_result"
    },
    {
     "data": {
      "image/png": "[encoded data removed]",
      "text/plain": [
       "<Figure size 432x288 with 1 Axes>"
      ]
     },
     "metadata": {
      "needs_background": "light"
     },
     "output_type": "display_data"
    }
   ],
   "source": [
    "plt.scatter([s[2] for s in prod_sentiments_wide], [s[1] for s in prod_sentiments_wide])"
   ]
  },
  {
   "cell_type": "code",
   "execution_count": 30,
   "metadata": {},
   "outputs": [
    {
     "data": {
      "text/plain": [
       "<matplotlib.colorbar.Colorbar at 0x1a237acc50>"
      ]
     },
     "execution_count": 30,
     "metadata": {},
     "output_type": "execute_result"
    },
    {
     "data": {
      "image/png": "[encoded data removed]",
      "text/plain": [
       "<Figure size 432x288 with 2 Axes>"
      ]
     },
     "metadata": {
      "needs_background": "light"
     },
     "output_type": "display_data"
    }
   ],
   "source": [
    "#bins=(50, 50),\n",
    "plt.hist2d([s[2] for s in prod_sentiments_wide if s[2] <= 4], [s[1] for s in prod_sentiments_wide if s[2] <= 4], cmap=plt.cm.jet)\n",
    "plt.colorbar()"
   ]
  },
  {
   "cell_type": "markdown",
   "metadata": {},
   "source": [
    "### Size of the context matter immensely for sentiments\n",
    "Should we use the sentence in which the entity appears, or the whole post?"
   ]
  },
  {
   "cell_type": "code",
   "execution_count": 62,
   "metadata": {},
   "outputs": [],
   "source": [
    "from vaderSentiment.vaderSentiment import SentimentIntensityAnalyzer\n",
    "s4p = ' I am using **xFyro xS2** waterproof Bluetooth earbud. I have enjoyed these earbuds immensely. You can use them for swimming, but swimming cap is must, otherwise, it will drop from your ear.\\n\\nAll in all I enjoy these very much and would recommend them.'"
   ]
  },
  {
   "cell_type": "code",
   "execution_count": 61,
   "metadata": {},
   "outputs": [
    {
     "data": {
      "text/plain": [
       "{'neg': 0.051, 'neu': 0.764, 'pos': 0.185, 'compound': 0.7935}"
      ]
     },
     "execution_count": 61,
     "metadata": {},
     "output_type": "execute_result"
    }
   ],
   "source": [
    "analyzer = SentimentIntensityAnalyzer()\n",
    "sentiment = analyzer.polarity_scores(s)\n",
    "sentiment"
   ]
  },
  {
   "cell_type": "code",
   "execution_count": 65,
   "metadata": {},
   "outputs": [
    {
     "data": {
      "text/plain": [
       "{'neg': 0.0, 'neu': 1.0, 'pos': 0.0, 'compound': 0.0}"
      ]
     },
     "execution_count": 65,
     "metadata": {},
     "output_type": "execute_result"
    }
   ],
   "source": [
    "s4 = ' I am using **xFyro xS2** waterproof Bluetooth earbud.'\n",
    "sentiment = analyzer.polarity_scores(s4)\n",
    "sentiment"
   ]
  },
  {
   "cell_type": "code",
   "execution_count": 66,
   "metadata": {},
   "outputs": [
    {
     "data": {
      "text/plain": [
       "{'neg': 0.051, 'neu': 0.764, 'pos': 0.185, 'compound': 0.7935}"
      ]
     },
     "execution_count": 66,
     "metadata": {},
     "output_type": "execute_result"
    }
   ],
   "source": [
    "sentiment = analyzer.polarity_scores(s4p)\n",
    "sentiment"
   ]
  },
  {
   "cell_type": "code",
   "execution_count": 71,
   "metadata": {},
   "outputs": [
    {
     "data": {
      "text/plain": [
       "[('xfyro', 0.0, 1), ('bluetooth', 0.0, 1)]"
      ]
     },
     "execution_count": 71,
     "metadata": {},
     "output_type": "execute_result"
    }
   ],
   "source": [
    "nlp = spacy.load(\"en_core_web_md\")\n",
    "nlp.add_pipe(nlp.create_pipe('sentencizer'))\n",
    "interpreter.interpret_paragraph([s4p, 1], nlp)"
   ]
  },
  {
   "cell_type": "code",
   "execution_count": 70,
   "metadata": {},
   "outputs": [
    {
     "name": "stdout",
     "output_type": "stream",
     "text": [
      "xFyro 383\n",
      "Bluetooth 383\n"
     ]
    }
   ],
   "source": [
    "doc = nlp(s4p)\n",
    "for ent in doc.ents:\n",
    "    print(ent.text, ent.label)"
   ]
  },
  {
   "cell_type": "code",
   "execution_count": 58,
   "metadata": {},
   "outputs": [],
   "source": [
    "s1 = \"Sennheiser HD 6XX.\"\n",
    "s2 = \"Sennheiser HD 6XX. They are the best in my opinion. You'll need a decent amp to drive them to their full potential though; check out the JDS Labs Atom for that.\""
   ]
  },
  {
   "cell_type": "code",
   "execution_count": 59,
   "metadata": {},
   "outputs": [
    {
     "name": "stdout",
     "output_type": "stream",
     "text": [
      "{'neg': 0.0, 'neu': 1.0, 'pos': 0.0, 'compound': 0.0}\n",
      "{'neg': 0.0, 'neu': 0.877, 'pos': 0.123, 'compound': 0.6369}\n"
     ]
    }
   ],
   "source": [
    "analyzer = SentimentIntensityAnalyzer()\n",
    "sentiment1 = analyzer.polarity_scores(s1)\n",
    "analyzer = SentimentIntensityAnalyzer()\n",
    "sentiment2 = analyzer.polarity_scores(s2)\n",
    "print(sentiment1)\n",
    "print(sentiment2)"
   ]
  },
  {
   "cell_type": "code",
   "execution_count": 51,
   "metadata": {},
   "outputs": [
    {
     "data": {
      "text/plain": [
       "[]"
      ]
     },
     "execution_count": 51,
     "metadata": {},
     "output_type": "execute_result"
    }
   ],
   "source": [
    "import spacy\n",
    "nlp = spacy.load(\"en_core_web_md\")\n",
    "nlp.add_pipe(nlp.create_pipe('sentencizer'))\n",
    "interpreter.interpret_paragraph(comments_upvotes[7], nlp)"
   ]
  },
  {
   "cell_type": "code",
   "execution_count": null,
   "metadata": {},
   "outputs": [],
   "source": []
  }
 ],
 "metadata": {
  "kernelspec": {
   "display_name": "Python 3.7.4 64-bit ('py3b': conda)",
   "language": "python",
   "name": "python37464bitpy3bconda9e63d4e9c0474755b9b5cc46d4cddbaf"
  },
  "language_info": {
   "codemirror_mode": {
    "name": "ipython",
    "version": 3
   },
   "file_extension": ".py",
   "mimetype": "text/x-python",
   "name": "python",
   "nbconvert_exporter": "python",
   "pygments_lexer": "ipython3",
   "version": "3.7.4"
  }
 },
 "nbformat": 4,
 "nbformat_minor": 2
}
