{
 "cells": [
  {
   "cell_type": "code",
   "execution_count": 1,
   "metadata": {},
   "outputs": [],
   "source": [
    "import json\n",
    "import spacy\n",
    "import nltk"
   ]
  },
  {
   "cell_type": "markdown",
   "metadata": {},
   "source": [
    "## Working directly with raw data from Pushshift.io\n",
    "This would require writing functions to \"query\" by itself"
   ]
  },
  {
   "cell_type": "code",
   "execution_count": 2,
   "metadata": {},
   "outputs": [],
   "source": [
    "data = []\n",
    "with open('RC_2019-11_10') as f:\n",
    "    for line in f:\n",
    "        data.append(json.loads(line))"
   ]
  },
  {
   "cell_type": "code",
   "execution_count": 5,
   "metadata": {},
   "outputs": [
    {
     "data": {
      "text/plain": [
       "{'all_awardings': [],\n",
       " 'associated_award': None,\n",
       " 'author': 'SpookySpino',\n",
       " 'author_created_utc': None,\n",
       " 'author_flair_background_color': None,\n",
       " 'author_flair_css_class': None,\n",
       " 'author_flair_richtext': [],\n",
       " 'author_flair_template_id': None,\n",
       " 'author_flair_text': None,\n",
       " 'author_flair_text_color': None,\n",
       " 'author_flair_type': 'text',\n",
       " 'author_fullname': 't2_3ok0x0gk',\n",
       " 'author_patreon_flair': False,\n",
       " 'author_premium': False,\n",
       " 'awarders': [],\n",
       " 'body': \"Mario and Luigi sound so happy and wholesome in this game I love it :')\",\n",
       " 'can_gild': True,\n",
       " 'can_mod_post': False,\n",
       " 'collapsed': False,\n",
       " 'collapsed_because_crowd_control': None,\n",
       " 'collapsed_reason': None,\n",
       " 'controversiality': 0,\n",
       " 'created_utc': 1572566400,\n",
       " 'distinguished': None,\n",
       " 'edited': False,\n",
       " 'gilded': 0,\n",
       " 'gildings': {},\n",
       " 'id': 'f5z3pn8',\n",
       " 'is_submitter': False,\n",
       " 'link_id': 't3_dptjc7',\n",
       " 'locked': False,\n",
       " 'no_follow': True,\n",
       " 'parent_id': 't3_dptjc7',\n",
       " 'permalink': '/r/LuigisMansion/comments/dptjc7/only_a_minute_in_and_im_in_love_with_the_game/f5z3pn8/',\n",
       " 'quarantined': False,\n",
       " 'removal_reason': None,\n",
       " 'retrieved_on': 1580511452,\n",
       " 'score': 2,\n",
       " 'send_replies': True,\n",
       " 'stickied': False,\n",
       " 'subreddit': 'LuigisMansion',\n",
       " 'subreddit_id': 't5_2ua4k',\n",
       " 'subreddit_name_prefixed': 'r/LuigisMansion',\n",
       " 'subreddit_type': 'public',\n",
       " 'total_awards_received': 0}"
      ]
     },
     "execution_count": 5,
     "metadata": {},
     "output_type": "execute_result"
    }
   ],
   "source": [
    "data[0]"
   ]
  },
  {
   "cell_type": "code",
   "execution_count": 7,
   "metadata": {},
   "outputs": [],
   "source": [
    "comment = \"I have the HD668B's from superlux, the audio is fantastic , they're really comfy and only £30\"\n",
    "comment = \"I have the HD668B from Google\"\n",
    "comment = \"Apple is looking at buying U.K. startup for $1 billion\""
   ]
  },
  {
   "cell_type": "code",
   "execution_count": 8,
   "metadata": {},
   "outputs": [],
   "source": [
    "nlp = spacy.load(\"en_core_web_sm\")"
   ]
  },
  {
   "cell_type": "code",
   "execution_count": 109,
   "metadata": {},
   "outputs": [
    {
     "name": "stdout",
     "output_type": "stream",
     "text": [
      "Apple 0 5 383 ORG\n",
      "U.K. 27 31 384 GPE\n",
      "$1 billion 44 54 394 MONEY\n"
     ]
    }
   ],
   "source": [
    "doc = nlp(comment)\n",
    "\n",
    "for ent in doc.ents:\n",
    "    print(ent.text, ent.start_char, ent.end_char, ent.label, ent.label_)"
   ]
  },
  {
   "cell_type": "markdown",
   "metadata": {},
   "source": [
    "## Querying the pushshift api:"
   ]
  },
  {
   "cell_type": "code",
   "execution_count": 2,
   "metadata": {},
   "outputs": [],
   "source": [
    "import requests\n",
    "page = requests.get('http://api.pushshift.io/reddit/search/submission/?subreddit=headphones&size=250&q=advice&after=7d')\n",
    "# Default is 25, max is 100\n",
    "# Default is  the last n comments\n",
    "# query (q) is case-insensitive, can be used to match two different words e.g. &q=radiohead+band\n",
    "# multiple subreddits e.g. ?subreddit=headphones,headphoneadvice\n",
    "# Sorting can be done by score or date e.g. sort=score:desc\n",
    "\n",
    "# can also filter for certain fields e.g. &filter=author,score,subreddit\n",
    "\n",
    "# Advanced: using subreddit aggregation allows us to determine the top subreddits\n",
    "# mentioning a certain word. Example using \"trump\"\n",
    "# https://api.pushshift.io/reddit/search/comment/?q=trump&after=7d&aggs=subreddit&size=0"
   ]
  },
  {
   "cell_type": "code",
   "execution_count": 3,
   "metadata": {},
   "outputs": [
    {
     "name": "stdout",
     "output_type": "stream",
     "text": [
      "31\n"
     ]
    }
   ],
   "source": [
    "data = json.loads(page.text)\n",
    "print(len(data['data']))"
   ]
  },
  {
   "cell_type": "markdown",
   "metadata": {},
   "source": [
    "### Subreddit Info \n",
    "For connecting user-input to a group of subreddits"
   ]
  },
  {
   "cell_type": "code",
   "execution_count": 14,
   "metadata": {},
   "outputs": [
    {
     "name": "stdout",
     "output_type": "stream",
     "text": [
      "A place for discussion, news, reviews and DIY projects related to portable audio, headphones, headphone amplifiers and DACs.\n"
     ]
    }
   ],
   "source": [
    "# reddit.com/r/subreddit/about.json (description, subscribers, etc) and \n",
    "# reddit.com/r/subreddit/wiki/pages.json (all resources, including wikipages, sidebar)\n",
    "\n",
    "# Method 1) Direct request\n",
    "sr_info = requests.get('http://reddit.com/r/headphones/about.json', headers = {'User-agent': 'your bot 0.1'})\n",
    "sr_info_c = json.loads(sr_info.text)\n",
    "print(sr_info_c['data']['public_description'])\n",
    "\n",
    "# Method 2) Pushshift API\n",
    "data_sr = []\n",
    "stop_at = 10000\n",
    "with open('data/reddit_subreddits.ndjson') as f:\n",
    "    for i, line in enumerate(f):\n",
    "        data_sr.append(json.loads(line))\n",
    "        if (i>stop_at):\n",
    "            break"
   ]
  },
  {
   "cell_type": "code",
   "execution_count": 15,
   "metadata": {},
   "outputs": [],
   "source": [
    "l = []\n",
    "for d in data_sr:\n",
    "    l.append(d['display_name'])"
   ]
  },
  {
   "cell_type": "markdown",
   "metadata": {},
   "source": [
    "## Get submissions from subreddit, with certain parameters"
   ]
  },
  {
   "cell_type": "code",
   "execution_count": 17,
   "metadata": {},
   "outputs": [],
   "source": [
    "# Get a related submission and then all comments \n",
    "# Say we're looking for advice or recommendations and headphones\n",
    "\n",
    "# A) Get all posts in the subreddit headphones in the last 100 days which include the words best and advice\n",
    "h_page = requests.get('http://api.pushshift.io/reddit/search/submission/?subreddit=headphoneadvice&q=best+advice&before=360d')\n",
    "h_data = json.loads(h_page.text)\n",
    "print(len(h_data['data']))"
   ]
  },
  {
   "cell_type": "code",
   "execution_count": 19,
   "metadata": {},
   "outputs": [
    {
     "name": "stdout",
     "output_type": "stream",
     "text": [
      "[PA] Gaming Headset Purchase advice for PC\n",
      "OpAmp Rolling\n",
      "[PA] EDM listener IEMs for £100 or less\n",
      "Need advice: Beyerdynamic DT770, Shure SRH840 or Audio-Technica M50X?\n",
      "Seeking some advice\n",
      "Best over-ear headphones under 100$ with good cushioning and durability\n",
      "[PA] Beyerdynamic Custom vs. DT770 Pro\n",
      "Inear decision making\n",
      "Beyerdynamic Custom Series and DT770?\n",
      "[PA] Buying my first IEM's. 50-100$. Details inside\n",
      "[PA] I would like something decent to liste to deadmau5\n",
      "Headset under $100 ? (Razer Kraken Pro / Cooler Master MH752)\n",
      "Best amp/DAC?\n",
      "Should I buy an amp for my Dt 880s? and other questions! I appreciate any and all advice.\n",
      "Best starter audiophile headphones?\n",
      "[PA] Is the Audio Technica M40x a good pair of headphones for casual listening?\n",
      "Headphone advice for noise cancelling for long periods\n",
      "[PA] Best alternative to the Jabra Elite 65T with no master/slave connection\n",
      "[PA] [CO] [please help!] Starter Looking to Get Advice on Headphones and Amps/DACs, Heavily Considering Sennheiser HD 650s (6XXs)\n",
      "Need advice on audio device for Fidelios X2HR\n",
      "Advice on best true wireless earbuds for me.\n",
      "Advice please\n",
      "What's the best possible headset for movies without needing a DAC\n",
      "Airpods/Powerbeats/Other Options?\n",
      "May I Have Your Attention Please? True Wireless Earphone Comparison Advice from Experts+Enthusiasts Needed!\n"
     ]
    }
   ],
   "source": [
    "# Print title of submissions\n",
    "for d in h_data['data']:\n",
    "    print(d['title'])"
   ]
  },
  {
   "cell_type": "code",
   "execution_count": null,
   "metadata": {},
   "outputs": [],
   "source": [
    "def get_assoc_comments(d):\n",
    "    ''' Using a submission JSON, return a new JSON of all comments.'''\n",
    "    c_page = requests.get('https://api.pushshift.io/reddit/submission/comment_ids/{}'.format(d['id']))\n",
    "    c_data = json.loads(c_page.text)\n",
    "    \n",
    "    cs_page = requests.get('https://api.pushshift.io/reddit/comment/search?ids={}'.format(\",\".join(c_data['data'])))\n",
    "    cs_data = json.loads(cs_page.text)\n",
    "    \n",
    "    return(cs_data['data'])\n",
    "\n",
    "nlp = spacy.load(\"en_core_web_md\")\n",
    "nlp.add_pipe(nlp.create_pipe('sentencizer'))"
   ]
  },
  {
   "cell_type": "code",
   "execution_count": 93,
   "metadata": {},
   "outputs": [],
   "source": [
    "comments = get_assoc_comments(h_data['data'][17]) #d"
   ]
  },
  {
   "cell_type": "code",
   "execution_count": 99,
   "metadata": {},
   "outputs": [
    {
     "data": {
      "text/plain": [
       "'Maybe some galaxy buds?'"
      ]
     },
     "execution_count": 99,
     "metadata": {},
     "output_type": "execute_result"
    }
   ],
   "source": [
    "comments[0]['body']"
   ]
  },
  {
   "cell_type": "code",
   "execution_count": 105,
   "metadata": {},
   "outputs": [
    {
     "name": "stdout",
     "output_type": "stream",
     "text": [
      "TW 50 52 383 ORG\n",
      "Hifiman 319 326 386 PRODUCT\n",
      "1more 355 360 383 ORG\n",
      "NuForce BeFrees 386 401 380 PERSON\n",
      "6 412 413 397 CARDINAL\n",
      "Audio-Technica 457 471 383 ORG\n",
      "150 486 489 394 MONEY\n",
      "IFS \n",
      "\n",
      " 508 514 383 ORG\n",
      "Lil 523 526 380 PERSON\n",
      "Lyperchek Teva 532 546 380 PERSON\n",
      "2020 614 618 397 CARDINAL\n",
      "iPhone 828 834 383 ORG\n",
      "11 835 837 397 CARDINAL\n",
      "Max 842 845 380 PERSON\n",
      "the Astrotec S80 1016 1032 386 PRODUCT\n",
      "40 1049 1051 394 MONEY\n",
      "the Liberty Air 1095 1110 387 EVENT\n",
      "40 1206 1208 394 MONEY\n"
     ]
    }
   ],
   "source": [
    "get_ents(a_text)"
   ]
  },
  {
   "cell_type": "code",
   "execution_count": null,
   "metadata": {},
   "outputs": [],
   "source": [
    "comments = get_assoc_comments(h_data['data'][5]) #d"
   ]
  },
  {
   "cell_type": "code",
   "execution_count": 152,
   "metadata": {},
   "outputs": [
    {
     "name": "stdout",
     "output_type": "stream",
     "text": [
      "TW 50 52 383 ORG\n",
      "Hifiman 319 326 386 PRODUCT\n",
      "1more 355 360 383 ORG\n",
      "NuForce BeFrees 386 401 380 PERSON\n",
      "6 412 413 397 CARDINAL\n",
      "Audio-Technica 457 471 383 ORG\n",
      "150 486 489 394 MONEY\n",
      "IFS \n",
      "\n",
      " 508 514 383 ORG\n",
      "Lil 523 526 380 PERSON\n",
      "Lyperchek Teva 532 546 380 PERSON\n",
      "2020 614 618 397 CARDINAL\n",
      "iPhone 828 834 383 ORG\n",
      "11 835 837 397 CARDINAL\n",
      "Max 842 845 380 PERSON\n",
      "the Astrotec S80 1016 1032 386 PRODUCT\n",
      "40 1049 1051 394 MONEY\n",
      "the Liberty Air 1095 1110 387 EVENT\n",
      "40 1206 1208 394 MONEY\n"
     ]
    },
    {
     "data": {
      "text/plain": [
       "Counter({'TW': 1,\n",
       "         'Hifiman': 1,\n",
       "         '1more': 1,\n",
       "         'Audio-Technica': 1,\n",
       "         'IFS': 1,\n",
       "         'iPhone': 1,\n",
       "         'the Astrotec S80': 1})"
      ]
     },
     "execution_count": 152,
     "metadata": {},
     "output_type": "execute_result"
    }
   ],
   "source": [
    "prod_orgs = get_prod_orgs(a_text)\n",
    "prod_orgs = [p.rstrip() for p in prod_orgs]\n",
    "Counter(prod_orgs)"
   ]
  },
  {
   "cell_type": "markdown",
   "metadata": {},
   "source": [
    "## Grab entities, product-ish"
   ]
  },
  {
   "cell_type": "code",
   "execution_count": 146,
   "metadata": {},
   "outputs": [],
   "source": [
    "def get_ents(text):\n",
    "    doc = nlp(text)\n",
    "    for ent in doc.ents:\n",
    "        print(ent.text, ent.start_char, ent.end_char, ent.label, ent.label_)\n",
    "\n",
    "        \n",
    "def get_prod_orgs(text):\n",
    "    \n",
    "    prod_orgs = []\n",
    "    doc = nlp(text)\n",
    "    for ent in doc.ents:\n",
    "        print(ent.text, ent.start_char, ent.end_char, ent.label, ent.label_)    \n",
    "        if(ent.label ==383 or ent.label== 386):\n",
    "            # If it's an ORG, and the next token is alphanumeric combo (SR800, S300, HD599, etc),\n",
    "            # then add that to it?\n",
    "            prod_orgs.append(ent.text)\n",
    "    return prod_orgs  \n",
    "        \n",
    "        \n",
    "        \n",
    "def get_ents_sentsplit(text):\n",
    "    doc = nlp(text)\n",
    "    sentences = [sent.string.strip() for sent in doc.sents]\n",
    "    \n",
    "    for s in sentences:\n",
    "            doc = nlp(s)\n",
    "            for ent in doc.ents:\n",
    "                print(ent.text, ent.start_char, ent.end_char, ent.label_)\n",
    "                print([(token.idx, token, type(token), token.nbor()) for token in ent])\n",
    "                \n",
    "def candidate_products(text):\n",
    "    doc = nlp(text)\n",
    "    product_list = []\n",
    "    likely_product = []\n",
    "    sentences = [sent.string.strip() for sent in doc.sents]\n",
    "    \n",
    "    for s in sentences:\n",
    "            doc = nlp(s)\n",
    "            for ent in doc.ents:\n",
    "                #print(ent.text, ent.start_char, ent.end_char, ent.label_)\n",
    "                #print([(token.idx, token, type(token), token.nbor()) for token in ent])\n",
    "                #print([(token, token.nbor()) for token in ent])\n",
    "                for token in ent:\n",
    "                    try:\n",
    "                        product_list.extend([(token, token.nbor())])\n",
    "                    except:\n",
    "                        print(\"IndexError\")\n",
    "                        \n",
    "                if(ent.label == 380): #Product\n",
    "                    likely_product.append(ent.text)\n",
    "    return product_list, likely_product"
   ]
  },
  {
   "cell_type": "code",
   "execution_count": 151,
   "metadata": {},
   "outputs": [],
   "source": [
    "from collections import Counter\n",
    "def score_from_prod_list(prod_list):\n",
    "    # Counter({'b': 2, 'a': 1})\n",
    "    # Really, should do some string manipulations to ensure we aren't double counting (lower, etc)\n",
    "    return Counter(prod_list)"
   ]
  },
  {
   "cell_type": "code",
   "execution_count": 52,
   "metadata": {},
   "outputs": [],
   "source": [
    "entity = doc.ents[0]\n",
    "print(f\"Token on the left: '{doc[entity.start - 1]}'\")\n",
    "print(f\"Token on the right: '{doc[entity.end]}'\") "
   ]
  },
  {
   "cell_type": "code",
   "execution_count": 53,
   "metadata": {},
   "outputs": [
    {
     "data": {
      "text/plain": [
       "\"Not sure if the open air design is acceptable but the Grado SR80e  has great cushioning and outstanding balanced design.  It's kind of the gateway drug of audiophile headphones.  Sound and comfort terrific.  Isolation is poor.  If you can live with that you are in for a treat\""
      ]
     },
     "execution_count": 53,
     "metadata": {},
     "output_type": "execute_result"
    }
   ],
   "source": [
    "comments[0]['body']"
   ]
  },
  {
   "cell_type": "code",
   "execution_count": 54,
   "metadata": {},
   "outputs": [
    {
     "name": "stdout",
     "output_type": "stream",
     "text": [
      "Grado 54 59 380\n"
     ]
    }
   ],
   "source": [
    "get_ents(comments[0]['body'])"
   ]
  },
  {
   "cell_type": "code",
   "execution_count": 64,
   "metadata": {},
   "outputs": [
    {
     "name": "stdout",
     "output_type": "stream",
     "text": [
      "Grado 54 59 PERSON\n",
      "[(Grado, SR80e)]\n"
     ]
    }
   ],
   "source": [
    "product_list = candidate_products(comments[0]['body'])"
   ]
  },
  {
   "cell_type": "code",
   "execution_count": 63,
   "metadata": {},
   "outputs": [
    {
     "data": {
      "text/plain": [
       "\"I will disagree with the other poster. A lot of people find the Grados beloe average in comfort. That might not be you, but best to buy them from a place you can return them. For better comfort on the SR80, you might want to upgrade them to the l pads that come on the SR225.\\n\\nkeep in mind that with Bluetooth, you're paying extra for the electronics versus a wired set of headphones. So typically you can get better sound quality for your money by going with the best wired headphones.\""
      ]
     },
     "execution_count": 63,
     "metadata": {},
     "output_type": "execute_result"
    }
   ],
   "source": [
    "comments[1]['body']"
   ]
  },
  {
   "cell_type": "code",
   "execution_count": 62,
   "metadata": {},
   "outputs": [
    {
     "name": "stdout",
     "output_type": "stream",
     "text": [
      "Grados 25 31 ORG\n",
      "[(Grados, beloe)]\n",
      "SR80 26 30 PRODUCT\n",
      "[(SR80, ,)]\n",
      "SR225 94 99 PRODUCT\n",
      "[(SR225, .)]\n",
      "Bluetooth 23 32 ORG\n",
      "[(Bluetooth, ,)]\n"
     ]
    }
   ],
   "source": [
    "product_list = candidate_products(comments[1]['body'])"
   ]
  },
  {
   "cell_type": "code",
   "execution_count": null,
   "metadata": {},
   "outputs": [],
   "source": []
  },
  {
   "cell_type": "code",
   "execution_count": 74,
   "metadata": {},
   "outputs": [
    {
     "name": "stdout",
     "output_type": "stream",
     "text": [
      "IndexError\n",
      "IndexError\n",
      "[(2020, !), (United, are), (Deano, has), (United, just), (Presets, V2), (V2, [), (OLH, 1000109](https://support.crestron.com), (1000109](https://support.crestron.com, /), (Sonos, modules), (CRPC, port), (Heos, there), (1, month), (100, %), (%, safe), (3080, ,), (3, and), (MSI, the), (TUF, .), (fifth, time), (Finebaum, yet), (MacBook, .), (7b, and), (summer, heat), (this, year), (year, ?), (one, viewer), (lo, mejor), (mejor, te), (te, sirve), (sirve, mas), (mas, buscar), (buscar, en), (uruguay, .), (&, gt;up), (gt;up, to), (2.2, million), (million, lives), (a, nice), (nice, day), (day, ,)]\n"
     ]
    }
   ],
   "source": [
    "agg_product_list = []\n",
    "for c in comments:\n",
    "    agg_product_list.extend(candidate_products(c['body']))\n",
    "print(agg_product_list)\n",
    "\n",
    "# Need to exclude if not English"
   ]
  },
  {
   "cell_type": "code",
   "execution_count": null,
   "metadata": {},
   "outputs": [],
   "source": [
    "#for comments = get_assoc_comments(h_data['data'][5]) #d"
   ]
  },
  {
   "cell_type": "code",
   "execution_count": 88,
   "metadata": {},
   "outputs": [
    {
     "data": {
      "text/plain": [
       "['[PA] Gaming Headset Purchase advice for PC',\n",
       " 'OpAmp Rolling',\n",
       " '[PA] EDM listener IEMs for £100 or less',\n",
       " 'Need advice: Beyerdynamic DT770, Shure SRH840 or Audio-Technica M50X?',\n",
       " 'Seeking some advice',\n",
       " 'Best over-ear headphones under 100$ with good cushioning and durability',\n",
       " '[PA] Beyerdynamic Custom vs. DT770 Pro',\n",
       " 'Inear decision making',\n",
       " 'Beyerdynamic Custom Series and DT770?',\n",
       " \"[PA] Buying my first IEM's. 50-100$. Details inside\",\n",
       " '[PA] I would like something decent to liste to deadmau5',\n",
       " 'Headset under $100 ? (Razer Kraken Pro / Cooler Master MH752)',\n",
       " 'Best amp/DAC?',\n",
       " 'Should I buy an amp for my Dt 880s? and other questions! I appreciate any and all advice.',\n",
       " 'Best starter audiophile headphones?',\n",
       " '[PA] Is the Audio Technica M40x a good pair of headphones for casual listening?',\n",
       " 'Headphone advice for noise cancelling for long periods',\n",
       " '[PA] Best alternative to the Jabra Elite 65T with no master/slave connection',\n",
       " '[PA] [CO] [please help!] Starter Looking to Get Advice on Headphones and Amps/DACs, Heavily Considering Sennheiser HD 650s (6XXs)',\n",
       " 'Need advice on audio device for Fidelios X2HR',\n",
       " 'Advice on best true wireless earbuds for me.',\n",
       " 'Advice please',\n",
       " \"What's the best possible headset for movies without needing a DAC\",\n",
       " 'Airpods/Powerbeats/Other Options?',\n",
       " 'May I Have Your Attention Please? True Wireless Earphone Comparison Advice from Experts+Enthusiasts Needed!']"
      ]
     },
     "execution_count": 88,
     "metadata": {},
     "output_type": "execute_result"
    }
   ],
   "source": [
    "#h_data here comes from \n",
    "#h_page = requests.get('http://api.pushshift.io/reddit/search/submission/?subreddit=headphoneadvice&q=best+advice&before=360d')\n",
    "#h_data = json.loads(h_page.text)\n",
    "[h['title'] for h in h_data['data']]"
   ]
  },
  {
   "cell_type": "code",
   "execution_count": 165,
   "metadata": {},
   "outputs": [],
   "source": [
    "def get_cmted_prods_submissions(submissions_data):\n",
    "    '''This takes in the JSON data returned from a query to a specific subreddit, \n",
    "    gets all associated comments and then returns an aggregate \"product-list\" from\n",
    "    all this comment data.'''\n",
    "    all_likely_products = []\n",
    "    agg_product_list = []\n",
    "    total_comments = 0\n",
    "    for h_d in submissions_data['data']:\n",
    "        comments = get_assoc_comments(h_d) #d\n",
    "        total_comments += len(comments)\n",
    "        for c in comments:\n",
    "            agg_product_list.extend(get_prod_orgs(c['body']))\n",
    "            \n",
    "    print(\"Comments = {}\".format(total_comments))\n",
    "    \n",
    "    return agg_product_list"
   ]
  },
  {
   "cell_type": "markdown",
   "metadata": {},
   "source": [
    "## Testing multi-subredddit product extraction"
   ]
  },
  {
   "cell_type": "code",
   "execution_count": null,
   "metadata": {},
   "outputs": [],
   "source": [
    "# Let's grab data from 3 subreddits about headphones:\n",
    "# Headphoneadvice, audiophile, BudgetAudiophile\n",
    "subreddits = ['headphoneadvice', 'budgetaudiophile', 'audiophile']\n",
    "prod_list_from_srs = []\n",
    "for sr in subreddits:\n",
    "    h_page = requests.get('http://api.pushshift.io/reddit/search/submission/?subreddit={}&q=best+recommend&before=360d'.format(sr))\n",
    "    h_data = json.loads(h_page.text)\n",
    "    agg_prod_list = get_cmted_prods_submissions(h_data)\n",
    "    \n",
    "    prod_list_from_srs.extend(agg_prod_list)\n",
    "    "
   ]
  },
  {
   "cell_type": "code",
   "execution_count": 159,
   "metadata": {},
   "outputs": [],
   "source": []
  },
  {
   "cell_type": "code",
   "execution_count": 161,
   "metadata": {},
   "outputs": [
    {
     "data": {
      "text/plain": [
       "790"
      ]
     },
     "execution_count": 161,
     "metadata": {},
     "output_type": "execute_result"
    }
   ],
   "source": [
    "# Larger scale test:\n",
    "len(prod_list_from_srs)"
   ]
  },
  {
   "cell_type": "code",
   "execution_count": null,
   "metadata": {},
   "outputs": [],
   "source": [
    "print(len(Counter(prod_list_from_srs).most_common()))\n",
    "print(len(Counter([p.lower() for p in prod_list_from_srs]).most_common()))\n",
    "print(Counter([p.lower() for p in prod_list_from_srs]).most_common())"
   ]
  },
  {
   "cell_type": "code",
   "execution_count": 155,
   "metadata": {},
   "outputs": [
    {
     "data": {
      "text/plain": [
       "121"
      ]
     },
     "execution_count": 155,
     "metadata": {},
     "output_type": "execute_result"
    }
   ],
   "source": [
    "# Test on small amount of data\n",
    "len(agg_product_list)"
   ]
  },
  {
   "cell_type": "code",
   "execution_count": 157,
   "metadata": {},
   "outputs": [
    {
     "data": {
      "text/plain": [
       "[('T3', 7),\n",
       " ('Amp', 4),\n",
       " ('DAC', 3),\n",
       " ('Sennheiser', 2),\n",
       " ('Fiio', 2),\n",
       " ('770s', 2),\n",
       " ('JD', 2),\n",
       " ('K3', 2),\n",
       " ('Beyerdynamic', 2),\n",
       " ('Kuz', 2),\n",
       " ('Asus', 2),\n",
       " ('the Aorus Master', 2),\n",
       " ('usb dongle', 2),\n",
       " ('Sony', 2),\n",
       " ('Mountcastle', 1),\n",
       " ('The U.S. Census', 1),\n",
       " ('OC', 1),\n",
       " ('747', 1),\n",
       " ('BBUS', 1),\n",
       " ('Bumper', 1),\n",
       " ('Mt. Baden Powell', 1),\n",
       " ('https://en.wikipedia.org/wiki/Operation_Acid_Gambit', 1),\n",
       " ('pensabas que era tu hija', 1),\n",
       " ('el', 1),\n",
       " ('Grados', 1),\n",
       " ('SR80', 1),\n",
       " ('SR225', 1),\n",
       " ('Bluetooth', 1),\n",
       " ('JBL', 1),\n",
       " ('AMP', 1),\n",
       " ('e3000', 1),\n",
       " ('Audio Technica', 1),\n",
       " ('Triple Drivers', 1),\n",
       " ('Shure SE215', 1),\n",
       " ('EDM', 1),\n",
       " ('808s', 1),\n",
       " ('E3000', 1),\n",
       " ('MMCX', 1),\n",
       " ('IEM', 1),\n",
       " ('the T2', 1),\n",
       " ('Cloud II', 1),\n",
       " ('Schitt Modi 3', 1),\n",
       " ('JDS Labs Atom Amp', 1),\n",
       " ('Dac/Amp', 1),\n",
       " ('amp+dac', 1),\n",
       " ('DT', 1),\n",
       " ('990s', 1),\n",
       " ('Khadas Tone Board', 1),\n",
       " ('the HD 58X', 1),\n",
       " ('LAN', 1),\n",
       " ('FiiO E10k Amp', 1),\n",
       " ('FiiO', 1),\n",
       " ('fiio dac', 1),\n",
       " ('The HD 58X', 1),\n",
       " ('Fiio K3', 1),\n",
       " ('K5', 1),\n",
       " ('The K5 pro', 1),\n",
       " ('dac', 1),\n",
       " ('hd', 1),\n",
       " ('Colse', 1),\n",
       " ('the Philips Fidelio X1', 1),\n",
       " ('the Hifiman HE-400i', 1),\n",
       " ('the Magni 3/Modi 3 Schiit', 1),\n",
       " ('Grado', 1),\n",
       " ('Coolermaster', 1),\n",
       " ('MH751', 1),\n",
       " ('urgency &amp', 1),\n",
       " ('Lakers', 1),\n",
       " ('The Brain Scoop', 1),\n",
       " ('Jeep', 1),\n",
       " ('Cesar', 1),\n",
       " ('Disney', 1),\n",
       " ('aye', 1),\n",
       " ('YTA', 1),\n",
       " ('eBay', 1),\n",
       " ('Magic', 1),\n",
       " ('Schitt Fulla 2', 1),\n",
       " ('BoomPro', 1),\n",
       " ('NC-1 USB', 1),\n",
       " ('Schitt', 1),\n",
       " ('Magni/Modi', 1),\n",
       " ('xlr', 1),\n",
       " ('gsx1000', 1),\n",
       " ('Aorus', 1),\n",
       " ('Ultra', 1),\n",
       " ('Asus Xonar Phoebus', 1),\n",
       " ('Essence STX II', 1),\n",
       " ('Sabre 9118 dac', 1),\n",
       " ('the amp/dac', 1),\n",
       " ('USB', 1),\n",
       " ('X2HR', 1),\n",
       " ('DAC/AMP', 1),\n",
       " ('the Galaxy Buds', 1),\n",
       " ('xbox', 1),\n",
       " ('the Philips X2HR', 1),\n",
       " ('wf1000xm3', 1),\n",
       " ('Amazon', 1),\n",
       " ('Samsung', 1),\n",
       " ('Mifo05', 1)]"
      ]
     },
     "execution_count": 157,
     "metadata": {},
     "output_type": "execute_result"
    }
   ],
   "source": [
    "# Clean-up\n",
    "prod_orgs = [p.rstrip() for p in agg_product_list]\n",
    "Counter(prod_orgs).most_common()"
   ]
  },
  {
   "cell_type": "code",
   "execution_count": 90,
   "metadata": {},
   "outputs": [
    {
     "data": {
      "text/plain": [
       "[(Samsung, buds), (Mifo05, ), (Sony, ch700n), (Soundcore, Liberty), (2, Pro)]"
      ]
     },
     "execution_count": 90,
     "metadata": {},
     "output_type": "execute_result"
    }
   ],
   "source": [
    "agg_product_list"
   ]
  },
  {
   "cell_type": "code",
   "execution_count": null,
   "metadata": {},
   "outputs": [],
   "source": [
    "all_likely_products"
   ]
  },
  {
   "cell_type": "code",
   "execution_count": null,
   "metadata": {},
   "outputs": [],
   "source": [
    "nlp = spacy.load(\"en_core_web_sm\") \n",
    "\n",
    "text_rnd = \"Get the XM3’s. They’re better in pretty much every category, except for seamless connection, but you only need to pair them once. Sony also has really good warranty service if your earbuds decide to stop working. Sony also has a really good app for customizing your sound even more which I don’t think AirPods have\"\n",
    "\n",
    "nlp.add_pipe(nlp.create_pipe('sentencizer')) # updated\n",
    "doc = nlp(text_rnd)\n",
    "sentences = [sent.string.strip() for sent in doc.sents]\n",
    "print(sentences)\n",
    "\n",
    "for d in sentences:\n",
    "    doc = nlp(d)\n",
    "    for ent in doc.ents:\n",
    "        print(ent.text, ent.start_char, ent.end_char, ent.label)"
   ]
  },
  {
   "cell_type": "code",
   "execution_count": 28,
   "metadata": {},
   "outputs": [
    {
     "name": "stdout",
     "output_type": "stream",
     "text": [
      "212 Evo 245 252 394\n"
     ]
    }
   ],
   "source": [
    "nlp = spacy.load(\"en_core_web_md\")\n",
    "doc = nlp(\"Unless you're overclocking it, the stock cooler is free and will do the job (albeit not too quietly.) If you want a cheap tower cooler that can handle a bit of overclocking (or just running at stock a little quieter) the Gammax 400 is a cheaper 212 Evo equivalent, plus it lights up if you're into that.\")\n",
    "\n",
    "\n",
    "for ent in doc.ents:\n",
    "    print(ent.text, ent.start_char, ent.end_char, ent.label)"
   ]
  },
  {
   "cell_type": "code",
   "execution_count": 4,
   "metadata": {},
   "outputs": [],
   "source": [
    "ex_test = \"Ever since purchasing my m50x a couple years back, I've  had a great experience and then began my search for better. For starters, I'm a dancer who enjoys music like RnB and rap. Anything with soul and a driving beat where I can isolate and hear all the intricacies in the background. More importantly I'm in college, so I don't spend hundreds on gear, preferably no more than $200 per purchase. With that said, it's only obvious that I'm a sucker for excellent detail/clarity at great value.\\n\\nMy problem is, with detail/clarity, I don't mean reference or neutral sound that so many audiophiles talk about. I've since sold my m50x for a pair of Audio Technica WS1100is and have found them much superior in giving me punchy bass and sparkly detailed treble and have since bought a pair of Tin T2s and Philips SHP9500 to explore the world of open backs and IEMs after hearing so many rave reviews of them being the best introductory purchases in their respective fields.\\n\\nI find myself rather displeased with the sound of the T2s and 9500s until I reach into the equalizer settings to bump up the bass and the treble and if anything, I feel as if I'm giving these more of a consumer sound. Yet at the same time, I really hate the sound of Beats and Bose headphones. \\n\\nI don't think I'm an audiophile but I love good separation and clarity in lows, mids, and highs while having a strong distaste for overmarketed audio products.\\nI don't think I'm a consumer but I am aware that I seek emphasized low end and treble and also kinda care about how a headphone looks.\\n\\nI'm just not sure where I belong in this community and need advice/recommendations. I've been told Argon MK3 and Philips Fidelio X2 are good for my tastes but with this identity crisis, I'm a little afraid to commit to these purchases without finding out where and what I should be looking for.\\n\\nIf this wall of text seems too confusing, I just simply want to know:\\n-Which category of listener do I fall into and where should I direct my attention and purchases?\\n-What's a good open back and closed back headphone for me if I'm planning on running no DAC/amp or an AudioQuest Dragonfly at most?\""
   ]
  },
  {
   "cell_type": "code",
   "execution_count": 8,
   "metadata": {},
   "outputs": [],
   "source": [
    "n_l = ex_test.split(\" \")"
   ]
  },
  {
   "cell_type": "code",
   "execution_count": 10,
   "metadata": {},
   "outputs": [
    {
     "data": {
      "text/plain": [
       "2156"
      ]
     },
     "execution_count": 10,
     "metadata": {},
     "output_type": "execute_result"
    }
   ],
   "source": [
    "len(ex_test)"
   ]
  },
  {
   "cell_type": "code",
   "execution_count": 7,
   "metadata": {},
   "outputs": [
    {
     "name": "stdout",
     "output_type": "stream",
     "text": [
      "a couple years back 391 DATE\n",
      "RnB 386 PRODUCT\n",
      "hundreds 397 CARDINAL\n",
      "no more than $200 394 MONEY\n",
      "Audio Technica WS1100is 383 ORG\n",
      "Philips 383 ORG\n",
      "Bose 383 ORG\n",
      "mids 380 PERSON\n",
      "Argon MK3 386 PRODUCT\n",
      "Philips 383 ORG\n",
      "X2 386 PRODUCT\n",
      "AudioQuest 383 ORG\n",
      "Dragonfly 386 PRODUCT\n"
     ]
    }
   ],
   "source": [
    "nlp = spacy.load(\"en_core_web_lg\")\n",
    "\n",
    "\n",
    "nlp.add_pipe(nlp.create_pipe('sentencizer')) # updated\n",
    "#doc = nlp(\"Unless you're overclocking it, the stock cooler is free and will do the job (albeit not too quietly.) If you want a cheap tower cooler that can handle a bit of overclocking (or just running at stock a little quieter) the Gammax 400 is a cheaper 212 Evo equivalent, plus it lights up if you're into that.\")\n",
    "doc = nlp(ex_test)\n",
    "sentences = [sent.string.strip() for sent in doc.sents]\n",
    "ents = []\n",
    "for d in sentences:\n",
    "    doc = nlp(d)\n",
    "    for ent in doc.ents:\n",
    "        print(ent.text, ent.label, ent.label_)\n",
    "        ents.append((ent.text, ent.label_))\n",
    "#for ent in ents:\n",
    "#    print(ent)"
   ]
  },
  {
   "cell_type": "code",
   "execution_count": null,
   "metadata": {},
   "outputs": [],
   "source": []
  }
 ],
 "metadata": {
  "kernelspec": {
   "display_name": "Python 3.7.4 64-bit ('py3b': conda)",
   "language": "python",
   "name": "python37464bitpy3bconda1a983976babd482a8096fd5d08b5bc22"
  },
  "language_info": {
   "codemirror_mode": {
    "name": "ipython",
    "version": 3
   },
   "file_extension": ".py",
   "mimetype": "text/x-python",
   "name": "python",
   "nbconvert_exporter": "python",
   "pygments_lexer": "ipython3",
   "version": "3.7.4"
  }
 },
 "nbformat": 4,
 "nbformat_minor": 2
}
