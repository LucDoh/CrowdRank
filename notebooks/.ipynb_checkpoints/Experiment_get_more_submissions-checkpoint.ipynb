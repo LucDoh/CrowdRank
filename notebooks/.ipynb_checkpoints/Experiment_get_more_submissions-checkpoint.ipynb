{
 "cells": [
  {
   "cell_type": "code",
   "execution_count": 65,
   "metadata": {},
   "outputs": [],
   "source": [
    "import json\n",
    "import requests\n",
    "import spacy\n",
    "import nltk\n",
    "from collections import Counter\n",
    "import sys\n",
    "sys.path.append(\"..\")"
   ]
  },
  {
   "cell_type": "code",
   "execution_count": 4,
   "metadata": {},
   "outputs": [],
   "source": [
    "with open('../data/comment_data/headphoneadvice_360.json') as f:\n",
    "    c_ha = json.load(f)"
   ]
  },
  {
   "cell_type": "code",
   "execution_count": 5,
   "metadata": {},
   "outputs": [
    {
     "data": {
      "text/plain": [
       "85"
      ]
     },
     "execution_count": 5,
     "metadata": {},
     "output_type": "execute_result"
    }
   ],
   "source": [
    "len(c_ha)"
   ]
  },
  {
   "cell_type": "code",
   "execution_count": 8,
   "metadata": {},
   "outputs": [],
   "source": [
    "with open('../data/comment_data/audiophile_360.json') as f:\n",
    "    c_a = json.load(f)"
   ]
  },
  {
   "cell_type": "code",
   "execution_count": 10,
   "metadata": {},
   "outputs": [
    {
     "data": {
      "text/plain": [
       "33"
      ]
     },
     "execution_count": 10,
     "metadata": {},
     "output_type": "execute_result"
    }
   ],
   "source": [
    "len(c_a)"
   ]
  },
  {
   "cell_type": "code",
   "execution_count": null,
   "metadata": {},
   "outputs": [],
   "source": [
    "with open('../data/comment_data/budgetaudiophile_360.json') as f:\n",
    "    c_ba = json.load(f)"
   ]
  },
  {
   "cell_type": "code",
   "execution_count": 13,
   "metadata": {},
   "outputs": [
    {
     "data": {
      "text/plain": [
       "52"
      ]
     },
     "execution_count": 13,
     "metadata": {},
     "output_type": "execute_result"
    }
   ],
   "source": [
    "len(c_ba)"
   ]
  },
  {
   "cell_type": "markdown",
   "metadata": {},
   "source": [
    "## Increase total comment number\n",
    "Instead of making sure the words best, advice, and recommendations are in the post, let's instead:\n",
    "\n",
    "1) Make 3 requests:\n",
    "- best + keyword\n",
    "- advice + keyword\n",
    "- recommendations + keyword\n",
    "\n",
    "2) Remove duplicates\n"
   ]
  },
  {
   "cell_type": "code",
   "execution_count": 15,
   "metadata": {},
   "outputs": [],
   "source": [
    "from crowdrank import ingester"
   ]
  },
  {
   "cell_type": "code",
   "execution_count": 17,
   "metadata": {},
   "outputs": [],
   "source": [
    "subreddit = 'headphoneadvice'\n",
    "lookback_days = 360\n",
    "num_posts = 500"
   ]
  },
  {
   "cell_type": "code",
   "execution_count": 43,
   "metadata": {},
   "outputs": [],
   "source": [
    "def get_subs_short(subreddit, lookback_days, num_posts):\n",
    "    print(\"Looking at {}\".format(subreddit))\n",
    "    h_page = requests.get('http://api.pushshift.io/reddit/search/submission/?subreddit={}&q=best+advice+recommendations&before={}d&size={}&sort_type=score'.format(subreddit,lookback_days, num_posts))\n",
    "\n",
    "    # TBD: Put all this data on S3\n",
    "    # Save submissions for later\n",
    "    #out_file = dumppath + \"{}/{}_{}.{}\".format(\"submission_data\", subreddit, lookback_days, \"json\")\n",
    "    submissions_data = json.loads(h_page.text)\n",
    "    return submissions_data"
   ]
  },
  {
   "cell_type": "code",
   "execution_count": 24,
   "metadata": {},
   "outputs": [
    {
     "data": {
      "text/plain": [
       "85"
      ]
     },
     "execution_count": 24,
     "metadata": {},
     "output_type": "execute_result"
    }
   ],
   "source": [
    "# headphoneadvice, 85 submissions\n",
    "len(submissions_data['data'])"
   ]
  },
  {
   "cell_type": "code",
   "execution_count": 118,
   "metadata": {},
   "outputs": [
    {
     "data": {
      "text/plain": [
       "{'all_awardings': [],\n",
       " 'allow_live_comments': False,\n",
       " 'author': 'OnionAddictYT',\n",
       " 'author_flair_css_class': None,\n",
       " 'author_flair_richtext': [],\n",
       " 'author_flair_text': None,\n",
       " 'author_flair_type': 'text',\n",
       " 'author_fullname': 't2_rve00lj',\n",
       " 'author_patreon_flair': False,\n",
       " 'can_mod_post': False,\n",
       " 'contest_mode': False,\n",
       " 'created_utc': 1564581287,\n",
       " 'domain': 'self.HeadphoneAdvice',\n",
       " 'full_link': 'https://www.reddit.com/r/HeadphoneAdvice/comments/ck8t76/pa_best_closed_back_headphones_with_a_rich/',\n",
       " 'gildings': {},\n",
       " 'id': 'ck8t76',\n",
       " 'is_crosspostable': True,\n",
       " 'is_meta': False,\n",
       " 'is_original_content': False,\n",
       " 'is_reddit_media_domain': False,\n",
       " 'is_robot_indexable': True,\n",
       " 'is_self': True,\n",
       " 'is_video': False,\n",
       " 'link_flair_background_color': '#73ad34',\n",
       " 'link_flair_css_class': 'blue',\n",
       " 'link_flair_richtext': [],\n",
       " 'link_flair_template_id': '7c1ab56a-6d4d-11e7-bb60-0eba7eb623c8',\n",
       " 'link_flair_text': 'Headphones - Closed Back',\n",
       " 'link_flair_text_color': 'light',\n",
       " 'link_flair_type': 'text',\n",
       " 'locked': False,\n",
       " 'media_only': False,\n",
       " 'no_follow': True,\n",
       " 'num_comments': 38,\n",
       " 'num_crossposts': 0,\n",
       " 'over_18': False,\n",
       " 'permalink': '/r/HeadphoneAdvice/comments/ck8t76/pa_best_closed_back_headphones_with_a_rich/',\n",
       " 'pinned': False,\n",
       " 'retrieved_on': 1564581287,\n",
       " 'score': 14,\n",
       " 'selftext': 'Hi,\\n\\nI\\'m looking to replace my Focal Spirit Pros who are close to breaking off at both sides of the headband, currently duct taped...\\n\\nI used them for gaming and commuting. For stationary music listening I have a STAX set (L300 headphones) which beat pretty much every other headphone I\\'ve tried in sound signature, no matter how expensive. Even the very good but ridiculously pricey Focal Utopia I got to sample briefly don\\'t sound excatly better to my ears. Just about as good.\\n\\nI love the silky smooth airy sound of my STAX headphones. Which I know I can\\'t get from closed cans but is there something sort of similar around?\\n\\nEven though the Focal Spirit Pro sounds bad compared to my STAX and somewhat unnatural, I liked them best of all the headphones below $500 I tested in the past because they have that forward sparkly presentation that I like.\\n\\nI\\'m looking for:\\n\\n**- forward rich midrange**\\n\\n**- smooth but sparkly treble (I\\'m senstitive to sibilance and harsh highs)**\\n\\n**- tight dry bass that extends deep but doesn\\'t color the midrange**\\n\\nThe more detail, the better for me. I hate recessed veiled highs that a lot of (closed) headphones suffer from. The Audeze LCD2, for example, was one of the most muffled awful but expensive headphones I ever tried and they weren\\'t even closed back! I do NOT understand why it\\'s so popular.\\n\\nI like heaphones that are on the brighter analytical side but not thin. I guess I also like an in-your-face presentation (like the open Shure 1440). I used to like the AKG sound back when I HATED bass because I only knew muddy boomy bass from cheap headphones. The K172 I still own have a great musical midrange! Now I find them seriously lacking in the bass department. Like, there is no bass, lol. (I disliked the much loved open K701 however. I\\'m not a fan of super wide soundstages, I guess.) The Shure 940 I loved for a while but they are also a bit too anemic and \"metallic\".\\n\\nMy budget is... flexible. I want to audition the Focal Stellia even though they are way WAY too expensive for my purposes. Maybe if they absolutely blow me away into heaven, better than my STAX, we can talk about the price. But I have no idea what they sound like.\\n\\nPlease no Sennheiser recommendations, I HATE the bass from that brand. Cannot stand it.\\n\\nTried already many years ago and DIDN\\'T like:\\n\\n\\\\-Audio Technica ATH M50\\n\\n \\\\-Shure SRH1540\\n\\n\\\\- AKG K550\\n\\n&amp;#x200B;\\n\\nUsage: Mostly gaming these days, so I would rather find a good pair in the $500 range than spend a fortune on the very best. Comfort for 3+ hours gaming sessions would be appreciated. I\\'m female with small ears and a narrow head, so clamping is not THAT much of an issue for me. Shallow ear cups and weight is, however.\\n\\n&amp;#x200B;\\n\\nSorry for the wall of text. It\\'s just that my taste is very particular. I\\'m not too familiar with headphone releases in the past 3 years. So the newer, the more likely I haven\\'t sampled them yet. I live in Germany, so certain brands are a bit difficult to get my hands on (like Mr Speaker).\\n\\n&amp;#x200B;\\n\\nAny advice is highly appreciated! :)',\n",
       " 'send_replies': True,\n",
       " 'spoiler': False,\n",
       " 'stickied': False,\n",
       " 'subreddit': 'HeadphoneAdvice',\n",
       " 'subreddit_id': 't5_3k8u4',\n",
       " 'subreddit_subscribers': 16768,\n",
       " 'subreddit_type': 'public',\n",
       " 'thumbnail': 'self',\n",
       " 'title': '[PA] Best closed back headphones with a rich forward midrange and smooth but sparkly treble?',\n",
       " 'total_awards_received': 0,\n",
       " 'updated_utc': 1564667665,\n",
       " 'url': 'https://www.reddit.com/r/HeadphoneAdvice/comments/ck8t76/pa_best_closed_back_headphones_with_a_rich/'}"
      ]
     },
     "execution_count": 118,
     "metadata": {},
     "output_type": "execute_result"
    }
   ],
   "source": [
    "submissions_data['data'][0]"
   ]
  },
  {
   "cell_type": "code",
   "execution_count": 25,
   "metadata": {},
   "outputs": [],
   "source": [
    "comments_list = []"
   ]
  },
  {
   "cell_type": "code",
   "execution_count": 26,
   "metadata": {},
   "outputs": [],
   "source": [
    "%%time\n",
    "# For 85 submissions... ~ 6 mins\n",
    "for h_d in submissions_data['data']:\n",
    "    comments_list.append(ingester.get_assoc_comments(h_d))\n",
    "print('end')"
   ]
  },
  {
   "cell_type": "code",
   "execution_count": 33,
   "metadata": {},
   "outputs": [],
   "source": [
    "cmts_per_sub = [len(comments_list[i]) for i in range(len(comments_list))]"
   ]
  },
  {
   "cell_type": "code",
   "execution_count": 36,
   "metadata": {},
   "outputs": [
    {
     "data": {
      "text/plain": [
       "717"
      ]
     },
     "execution_count": 36,
     "metadata": {},
     "output_type": "execute_result"
    }
   ],
   "source": [
    "# Headphoneadvice\n",
    "sum(cmts_per_sub)"
   ]
  },
  {
   "cell_type": "code",
   "execution_count": 44,
   "metadata": {},
   "outputs": [
    {
     "name": "stdout",
     "output_type": "stream",
     "text": [
      "Looking at audiophile\n"
     ]
    }
   ],
   "source": [
    "# Audiophile ~ 5s\n",
    "subs_data_audiophile = get_subs_short('audiophile', 360, 500)"
   ]
  },
  {
   "cell_type": "code",
   "execution_count": 45,
   "metadata": {},
   "outputs": [],
   "source": [
    "comments_list_audiophile = []\n"
   ]
  },
  {
   "cell_type": "code",
   "execution_count": 46,
   "metadata": {},
   "outputs": [
    {
     "name": "stdout",
     "output_type": "stream",
     "text": [
      "end\n",
      "CPU times: user 1.15 s, sys: 69.6 ms, total: 1.22 s\n",
      "Wall time: 1min 38s\n"
     ]
    }
   ],
   "source": [
    "%%time\n",
    "# For 33 submissions... ~ 1m38s mins\n",
    "for h_d in subs_data_audiophile['data']:\n",
    "    comments_list_audiophile.append(ingester.get_assoc_comments(h_d))\n",
    "print('end')"
   ]
  },
  {
   "cell_type": "code",
   "execution_count": 49,
   "metadata": {},
   "outputs": [
    {
     "data": {
      "text/plain": [
       "702"
      ]
     },
     "execution_count": 49,
     "metadata": {},
     "output_type": "execute_result"
    }
   ],
   "source": [
    "# How many total comments:\n",
    "cmts_per_sub_a = [len(comments_list_audiophile[i]) for i in range(len(comments_list_audiophile))]\n",
    "sum(cmts_per_sub_a)"
   ]
  },
  {
   "cell_type": "code",
   "execution_count": 54,
   "metadata": {},
   "outputs": [
    {
     "data": {
      "text/plain": [
       "52"
      ]
     },
     "execution_count": 54,
     "metadata": {},
     "output_type": "execute_result"
    }
   ],
   "source": [
    "len(subs_data_baudiophile['data'])"
   ]
  },
  {
   "cell_type": "code",
   "execution_count": 50,
   "metadata": {},
   "outputs": [
    {
     "name": "stdout",
     "output_type": "stream",
     "text": [
      "Looking at budgetaudiophile\n"
     ]
    }
   ],
   "source": [
    "# Baudiophile ~ 5s\n",
    "subs_data_baudiophile = get_subs_short('budgetaudiophile', 360, 500)"
   ]
  },
  {
   "cell_type": "code",
   "execution_count": 52,
   "metadata": {},
   "outputs": [
    {
     "name": "stdout",
     "output_type": "stream",
     "text": [
      "end\n",
      "CPU times: user 1.92 s, sys: 110 ms, total: 2.03 s\n",
      "Wall time: 2min 44s\n"
     ]
    }
   ],
   "source": [
    "%%time\n",
    "# For 85 submissions... ~ 2m44s\n",
    "comments_list_baudiophile = []\n",
    "for h_d in subs_data_baudiophile['data']:\n",
    "    comments_list_baudiophile.append(ingester.get_assoc_comments(h_d))\n",
    "print('end')"
   ]
  },
  {
   "cell_type": "code",
   "execution_count": 53,
   "metadata": {},
   "outputs": [
    {
     "data": {
      "text/plain": [
       "662"
      ]
     },
     "execution_count": 53,
     "metadata": {},
     "output_type": "execute_result"
    }
   ],
   "source": [
    "# How many total comments:\n",
    "cmts_per_sub_ba = [len(comments_list_baudiophile[i]) for i in range(len(comments_list_baudiophile))]\n",
    "sum(cmts_per_sub_ba)"
   ]
  },
  {
   "cell_type": "code",
   "execution_count": null,
   "metadata": {},
   "outputs": [],
   "source": [
    "sr = 'audiophile'\n",
    "lookback_days = 360\n",
    "comments_path = \"../data/comment_data/{}_{}.json\".format(sr, lookback_days)\n",
    "with open(comments_path) as f:\n",
    "        comments_2D = json.load(f)\n",
    "num_comments = sum([len(comments) for comments in comments_2D])"
   ]
  },
  {
   "cell_type": "code",
   "execution_count": null,
   "metadata": {},
   "outputs": [],
   "source": [
    "num_comments"
   ]
  },
  {
   "cell_type": "code",
   "execution_count": 63,
   "metadata": {},
   "outputs": [],
   "source": []
  },
  {
   "cell_type": "code",
   "execution_count": 66,
   "metadata": {},
   "outputs": [],
   "source": []
  },
  {
   "cell_type": "code",
   "execution_count": null,
   "metadata": {},
   "outputs": [],
   "source": [
    "# from crowdrank import ingester\n",
    "# ingester.count_comments('audiophile', lookback_days)"
   ]
  },
  {
   "cell_type": "code",
   "execution_count": 111,
   "metadata": {},
   "outputs": [],
   "source": [
    "def get_more_subs(subreddit, keyword, lookback_days, num_posts):\n",
    "    # Expanding the search, do 3 queries for keyword + advice_synonym\n",
    "    # and then add the results\n",
    "    print(\"Looking at {}\".format(subreddit))\n",
    "    \n",
    "    # \n",
    "    h_page_best = requests.get('http://api.pushshift.io/reddit/search/submission/?subreddit={}&q={}+recommendations&before={}d&size={}&sort_type=score'.format(subreddit, keyword, lookback_days, num_posts))\n",
    "    h_page_advice = requests.get('http://api.pushshift.io/reddit/search/submission/?subreddit={}&q={}+best&before={}d&size={}&sort_type=score'.format(subreddit, keyword, lookback_days, num_posts))\n",
    "    h_page_recc = requests.get('http://api.pushshift.io/reddit/search/submission/?subreddit={}&q={}+advice&before={}d&size={}&sort_type=score'.format(subreddit, keyword, lookback_days, num_posts))\n",
    "\n",
    "\n",
    "\n",
    "    # TBD: Put all this data on S3\n",
    "    # Save submissions for later\n",
    "    #out_file = dumppath + \"{}/{}_{}.{}\".format(\"submission_data\", subreddit, lookback_days, \"json\")\n",
    "    submissions_data_best = json.loads(h_page_best.text)\n",
    "    submissions_data_recc = json.loads(h_page_recc.text)\n",
    "    submissions_data_advice = json.loads(h_page_advice.text)\n",
    "    \n",
    "    combined_subs = submissions_data_best['data'] + submissions_data_recc['data'] + submissions_data_advice['data']\n",
    "    \n",
    "    #comments_list = []\n",
    "    #for h_d in combined_subs:\n",
    "    #    comments = ingester.get_assoc_comments(h_d)\n",
    "    #    comments_list.append(comments)\n",
    "    \n",
    "    return combined_subs"
   ]
  },
  {
   "cell_type": "code",
   "execution_count": 70,
   "metadata": {},
   "outputs": [],
   "source": [
    "h_page_best = requests.get('http://api.pushshift.io/reddit/search/submission/?subreddit={}&q=headphones+recommendations&before={}d&size={}&sort_type=score'.format(subreddit,lookback_days, num_posts))"
   ]
  },
  {
   "cell_type": "code",
   "execution_count": 72,
   "metadata": {},
   "outputs": [],
   "source": [
    "subs_best = json.loads(h_page_best.text)"
   ]
  },
  {
   "cell_type": "code",
   "execution_count": 75,
   "metadata": {},
   "outputs": [
    {
     "data": {
      "text/plain": [
       "list"
      ]
     },
     "execution_count": 75,
     "metadata": {},
     "output_type": "execute_result"
    }
   ],
   "source": [
    "type(subs_best['data'])"
   ]
  },
  {
   "cell_type": "code",
   "execution_count": 95,
   "metadata": {},
   "outputs": [
    {
     "name": "stdout",
     "output_type": "stream",
     "text": [
      "Looking at headphoneadvice\n"
     ]
    }
   ],
   "source": [
    "c_list = get_more_subs('headphoneadvice', 360, 500)"
   ]
  },
  {
   "cell_type": "code",
   "execution_count": 96,
   "metadata": {},
   "outputs": [],
   "source": [
    "sub_ids = [sub['id'] for sub in c_list]"
   ]
  },
  {
   "cell_type": "code",
   "execution_count": 97,
   "metadata": {},
   "outputs": [
    {
     "name": "stdout",
     "output_type": "stream",
     "text": [
      "300\n",
      "262\n"
     ]
    }
   ],
   "source": [
    "print(len(sub_ids))\n",
    "print(len(list(set(sub_ids))))"
   ]
  },
  {
   "cell_type": "code",
   "execution_count": 85,
   "metadata": {},
   "outputs": [
    {
     "data": {
      "text/plain": [
       "200"
      ]
     },
     "execution_count": 85,
     "metadata": {},
     "output_type": "execute_result"
    }
   ],
   "source": [
    "len(c_list)"
   ]
  },
  {
   "cell_type": "code",
   "execution_count": 114,
   "metadata": {},
   "outputs": [
    {
     "name": "stdout",
     "output_type": "stream",
     "text": [
      "Looking at headphoneadvice\n",
      "262\n"
     ]
    }
   ],
   "source": [
    "c_list = get_more_subs('headphoneadvice', 'headphones', 360, 500)\n",
    "sub_ids = [sub['id'] for sub in c_list]\n",
    "print(len(set(sub_ids)))"
   ]
  },
  {
   "cell_type": "code",
   "execution_count": 113,
   "metadata": {},
   "outputs": [
    {
     "name": "stdout",
     "output_type": "stream",
     "text": [
      "Looking at audiophile\n",
      "226\n"
     ]
    }
   ],
   "source": [
    "c_list = get_more_subs('audiophile', 'headphones', 360, 500)\n",
    "sub_ids = [sub['id'] for sub in c_list]\n",
    "print(len(set(sub_ids)))"
   ]
  },
  {
   "cell_type": "code",
   "execution_count": 119,
   "metadata": {},
   "outputs": [
    {
     "name": "stdout",
     "output_type": "stream",
     "text": [
      "Looking at budgetaudiophile\n",
      "300\n",
      "268\n"
     ]
    }
   ],
   "source": [
    "c_list = get_more_subs('budgetaudiophile', 'headphones', 360, 500)\n",
    "sub_ids = [sub['id'] for sub in c_list]\n",
    "print(len(sub_ids))\n",
    "print(len(set(sub_ids)))"
   ]
  },
  {
   "cell_type": "code",
   "execution_count": null,
   "metadata": {},
   "outputs": [],
   "source": []
  },
  {
   "cell_type": "code",
   "execution_count": 121,
   "metadata": {},
   "outputs": [],
   "source": [
    "with open('../data/comment_data/headphoneadvice_360.json') as f:\n",
    "    c_ha = json.load(f)"
   ]
  },
  {
   "cell_type": "code",
   "execution_count": 125,
   "metadata": {},
   "outputs": [],
   "source": [
    "comments_ha = []\n",
    "for c in c_ha:\n",
    "    comments_ha.extend(c)"
   ]
  },
  {
   "cell_type": "code",
   "execution_count": 126,
   "metadata": {},
   "outputs": [
    {
     "data": {
      "text/plain": [
       "5046"
      ]
     },
     "execution_count": 126,
     "metadata": {},
     "output_type": "execute_result"
    }
   ],
   "source": [
    "len(comments_ha)"
   ]
  },
  {
   "cell_type": "code",
   "execution_count": 130,
   "metadata": {},
   "outputs": [
    {
     "data": {
      "text/plain": [
       "5046"
      ]
     },
     "execution_count": 130,
     "metadata": {},
     "output_type": "execute_result"
    }
   ],
   "source": [
    "comments_ha_body = [c['body'] for c in comments_ha]\n",
    "len(comments_ha_body)"
   ]
  },
  {
   "cell_type": "code",
   "execution_count": 131,
   "metadata": {},
   "outputs": [
    {
     "data": {
      "text/plain": [
       "4951"
      ]
     },
     "execution_count": 131,
     "metadata": {},
     "output_type": "execute_result"
    }
   ],
   "source": [
    "len(set(comments_ha_body))"
   ]
  },
  {
   "cell_type": "code",
   "execution_count": null,
   "metadata": {},
   "outputs": [],
   "source": []
  },
  {
   "cell_type": "markdown",
   "metadata": {},
   "source": [
    "## Viz for comparing rankings:"
   ]
  },
  {
   "cell_type": "code",
   "execution_count": 136,
   "metadata": {},
   "outputs": [],
   "source": [
    "# We're going to look at the top 99% of data's ranking (if we have 9 opinions on a brand, omit)\n",
    "import pandas as pd\n",
    "import seaborn as sns\n",
    "df_ranking = pd.read_csv(\"../data/results/Headphones_360.csv\")"
   ]
  },
  {
   "cell_type": "code",
   "execution_count": 139,
   "metadata": {},
   "outputs": [],
   "source": [
    "df_ranking.columns = ['Brand', 'Sentiment', 'Popularity', 'Variance']"
   ]
  },
  {
   "cell_type": "code",
   "execution_count": 138,
   "metadata": {},
   "outputs": [
    {
     "name": "stderr",
     "output_type": "stream",
     "text": [
      "/anaconda3/envs/py3b/lib/python3.7/site-packages/seaborn/_decorators.py:43: FutureWarning: Pass the following variables as keyword args: x, y. From version 0.12, the only valid positional argument will be `data`, and passing other arguments without an explicit keyword will result in an error or misinterpretation.\n",
      "  FutureWarning\n"
     ]
    },
    {
     "data": {
      "text/plain": [
       "<matplotlib.axes._subplots.AxesSubplot at 0x1a28ef4fd0>"
      ]
     },
     "execution_count": 138,
     "metadata": {},
     "output_type": "execute_result"
    },
    {
     "data": {
      "image/png": "[encoded data removed]",
      "text/plain": [
       "<Figure size 432x288 with 1 Axes>"
      ]
     },
     "metadata": {
      "needs_background": "light"
     },
     "output_type": "display_data"
    }
   ],
   "source": [
    "sns.scatterplot(df_ranking['Sentiment'], df_ranking['Popularity'])"
   ]
  },
  {
   "cell_type": "markdown",
   "metadata": {},
   "source": [
    "## Comparing CrowdRank to other rankings"
   ]
  },
  {
   "cell_type": "code",
   "execution_count": 140,
   "metadata": {},
   "outputs": [
    {
     "data": {
      "text/html": [
       "<div>\n",
       "<style scoped>\n",
       "    .dataframe tbody tr th:only-of-type {\n",
       "        vertical-align: middle;\n",
       "    }\n",
       "\n",
       "    .dataframe tbody tr th {\n",
       "        vertical-align: top;\n",
       "    }\n",
       "\n",
       "    .dataframe thead th {\n",
       "        text-align: right;\n",
       "    }\n",
       "</style>\n",
       "<table border=\"1\" class=\"dataframe\">\n",
       "  <thead>\n",
       "    <tr style=\"text-align: right;\">\n",
       "      <th></th>\n",
       "      <th>Brand</th>\n",
       "      <th>Sentiment</th>\n",
       "      <th>Popularity</th>\n",
       "      <th>Variance</th>\n",
       "    </tr>\n",
       "  </thead>\n",
       "  <tbody>\n",
       "    <tr>\n",
       "      <th>0</th>\n",
       "      <td>hyperx</td>\n",
       "      <td>0.70</td>\n",
       "      <td>13</td>\n",
       "      <td>70.56</td>\n",
       "    </tr>\n",
       "    <tr>\n",
       "      <th>1</th>\n",
       "      <td>steelseries</td>\n",
       "      <td>0.68</td>\n",
       "      <td>10</td>\n",
       "      <td>37.75</td>\n",
       "    </tr>\n",
       "    <tr>\n",
       "      <th>2</th>\n",
       "      <td>denon</td>\n",
       "      <td>0.65</td>\n",
       "      <td>8</td>\n",
       "      <td>20.84</td>\n",
       "    </tr>\n",
       "    <tr>\n",
       "      <th>3</th>\n",
       "      <td>klipsch</td>\n",
       "      <td>0.65</td>\n",
       "      <td>6</td>\n",
       "      <td>10.62</td>\n",
       "    </tr>\n",
       "    <tr>\n",
       "      <th>4</th>\n",
       "      <td>philips</td>\n",
       "      <td>0.65</td>\n",
       "      <td>13</td>\n",
       "      <td>60.07</td>\n",
       "    </tr>\n",
       "    <tr>\n",
       "      <th>5</th>\n",
       "      <td>logitech</td>\n",
       "      <td>0.64</td>\n",
       "      <td>15</td>\n",
       "      <td>80.88</td>\n",
       "    </tr>\n",
       "    <tr>\n",
       "      <th>6</th>\n",
       "      <td>sennheiser</td>\n",
       "      <td>0.62</td>\n",
       "      <td>331</td>\n",
       "      <td>41754.67</td>\n",
       "    </tr>\n",
       "    <tr>\n",
       "      <th>7</th>\n",
       "      <td>jabra</td>\n",
       "      <td>0.60</td>\n",
       "      <td>31</td>\n",
       "      <td>329.10</td>\n",
       "    </tr>\n",
       "    <tr>\n",
       "      <th>8</th>\n",
       "      <td>samsung</td>\n",
       "      <td>0.60</td>\n",
       "      <td>12</td>\n",
       "      <td>43.15</td>\n",
       "    </tr>\n",
       "    <tr>\n",
       "      <th>9</th>\n",
       "      <td>beyerdynamic</td>\n",
       "      <td>0.58</td>\n",
       "      <td>137</td>\n",
       "      <td>6268.86</td>\n",
       "    </tr>\n",
       "    <tr>\n",
       "      <th>10</th>\n",
       "      <td>bose</td>\n",
       "      <td>0.58</td>\n",
       "      <td>266</td>\n",
       "      <td>23766.52</td>\n",
       "    </tr>\n",
       "    <tr>\n",
       "      <th>11</th>\n",
       "      <td>akg</td>\n",
       "      <td>0.54</td>\n",
       "      <td>84</td>\n",
       "      <td>2028.63</td>\n",
       "    </tr>\n",
       "    <tr>\n",
       "      <th>12</th>\n",
       "      <td>sony</td>\n",
       "      <td>0.52</td>\n",
       "      <td>366</td>\n",
       "      <td>35755.76</td>\n",
       "    </tr>\n",
       "    <tr>\n",
       "      <th>13</th>\n",
       "      <td>skullcandy</td>\n",
       "      <td>0.46</td>\n",
       "      <td>10</td>\n",
       "      <td>17.12</td>\n",
       "    </tr>\n",
       "    <tr>\n",
       "      <th>14</th>\n",
       "      <td>jbl</td>\n",
       "      <td>0.44</td>\n",
       "      <td>20</td>\n",
       "      <td>69.39</td>\n",
       "    </tr>\n",
       "    <tr>\n",
       "      <th>15</th>\n",
       "      <td>audio-technica</td>\n",
       "      <td>0.43</td>\n",
       "      <td>23</td>\n",
       "      <td>91.32</td>\n",
       "    </tr>\n",
       "    <tr>\n",
       "      <th>16</th>\n",
       "      <td>jvc</td>\n",
       "      <td>0.40</td>\n",
       "      <td>9</td>\n",
       "      <td>10.28</td>\n",
       "    </tr>\n",
       "    <tr>\n",
       "      <th>17</th>\n",
       "      <td>yamaha</td>\n",
       "      <td>0.32</td>\n",
       "      <td>7</td>\n",
       "      <td>3.71</td>\n",
       "    </tr>\n",
       "    <tr>\n",
       "      <th>18</th>\n",
       "      <td>apple</td>\n",
       "      <td>0.27</td>\n",
       "      <td>26</td>\n",
       "      <td>43.93</td>\n",
       "    </tr>\n",
       "    <tr>\n",
       "      <th>19</th>\n",
       "      <td>jaybird</td>\n",
       "      <td>0.14</td>\n",
       "      <td>11</td>\n",
       "      <td>1.95</td>\n",
       "    </tr>\n",
       "  </tbody>\n",
       "</table>\n",
       "</div>"
      ],
      "text/plain": [
       "             Brand  Sentiment  Popularity  Variance\n",
       "0           hyperx       0.70          13     70.56\n",
       "1      steelseries       0.68          10     37.75\n",
       "2            denon       0.65           8     20.84\n",
       "3          klipsch       0.65           6     10.62\n",
       "4          philips       0.65          13     60.07\n",
       "5         logitech       0.64          15     80.88\n",
       "6       sennheiser       0.62         331  41754.67\n",
       "7            jabra       0.60          31    329.10\n",
       "8          samsung       0.60          12     43.15\n",
       "9     beyerdynamic       0.58         137   6268.86\n",
       "10            bose       0.58         266  23766.52\n",
       "11             akg       0.54          84   2028.63\n",
       "12            sony       0.52         366  35755.76\n",
       "13      skullcandy       0.46          10     17.12\n",
       "14             jbl       0.44          20     69.39\n",
       "15  audio-technica       0.43          23     91.32\n",
       "16             jvc       0.40           9     10.28\n",
       "17          yamaha       0.32           7      3.71\n",
       "18           apple       0.27          26     43.93\n",
       "19         jaybird       0.14          11      1.95"
      ]
     },
     "execution_count": 140,
     "metadata": {},
     "output_type": "execute_result"
    }
   ],
   "source": [
    "df_ranking"
   ]
  },
  {
   "cell_type": "code",
   "execution_count": 143,
   "metadata": {},
   "outputs": [
    {
     "data": {
      "text/plain": [
       "array(['hyperx', 'steelseries', 'denon', 'klipsch', 'philips', 'logitech',\n",
       "       'sennheiser', 'jabra', 'samsung', 'beyerdynamic', 'bose', 'akg',\n",
       "       'sony', 'skullcandy', 'jbl', 'audio-technica', 'jvc', 'yamaha',\n",
       "       'apple', 'jaybird'], dtype=object)"
      ]
     },
     "execution_count": 143,
     "metadata": {},
     "output_type": "execute_result"
    }
   ],
   "source": [
    "df_ranking.Brand.values"
   ]
  },
  {
   "cell_type": "code",
   "execution_count": 163,
   "metadata": {},
   "outputs": [],
   "source": [
    "ranking_string= '''\n",
    "Bose\n",
    "Sony\n",
    "Sennheiser\n",
    "Audio-technica\n",
    "Beyerdynamic\n",
    "JBL\n",
    "Plantronics\n",
    "Beats\n",
    "Jaybird\n",
    "Jabra\n",
    "Anker\n",
    "Skullcandy\n",
    "SteelSeries\n",
    "Logitech\n",
    "HyperX\n",
    "''' \n",
    "# \n",
    "ranking_haddict_string = '''\n",
    "Sennheiser\n",
    "JBL\n",
    "Bose\n",
    "Sony\n",
    "Skullcandy\n",
    "AKG\n",
    "Beats\n",
    "Audio-technica\n",
    "Bang&Olufsen\n",
    "Beyerdynamic\n",
    "Marshall\n",
    "Samsung\n",
    "Xiaomi\n",
    "Jabra\n",
    "Bowers&Wilkins\n",
    "Philips\n",
    "Shure\n",
    "V-MODA\n",
    "RHA-Technologies\n",
    "HyperX\n",
    "'''"
   ]
  },
  {
   "cell_type": "code",
   "execution_count": 146,
   "metadata": {},
   "outputs": [
    {
     "data": {
      "text/plain": [
       "['Bose',\n",
       " 'Sony',\n",
       " 'Sennheiser',\n",
       " 'Audio-technica',\n",
       " 'Beyerdynamic',\n",
       " 'JBL',\n",
       " 'Plantronics',\n",
       " 'Beats',\n",
       " 'Jaybird',\n",
       " 'Jabra',\n",
       " 'Anker',\n",
       " 'Skullcandy',\n",
       " 'SteelSeries',\n",
       " 'Logitech',\n",
       " 'HyperX']"
      ]
     },
     "execution_count": 146,
     "metadata": {},
     "output_type": "execute_result"
    }
   ],
   "source": [
    "rtings_top = [s_i for s_i in ranking_string.split()]\n",
    "rtings_top"
   ]
  },
  {
   "cell_type": "code",
   "execution_count": null,
   "metadata": {},
   "outputs": [],
   "source": []
  },
  {
   "cell_type": "code",
   "execution_count": 148,
   "metadata": {},
   "outputs": [],
   "source": [
    "import numpy as np\n",
    "import pandas as pd\n",
    "ranking_comp = np.array([df_ranking.Brand.values, rtings_top ])"
   ]
  },
  {
   "cell_type": "code",
   "execution_count": 150,
   "metadata": {},
   "outputs": [
    {
     "name": "stdout",
     "output_type": "stream",
     "text": [
      "[array(['hyperx', 'steelseries', 'denon', 'klipsch', 'philips', 'logitech',\n",
      "       'sennheiser', 'jabra', 'samsung', 'beyerdynamic', 'bose', 'akg',\n",
      "       'sony', 'skullcandy', 'jbl', 'audio-technica', 'jvc', 'yamaha',\n",
      "       'apple', 'jaybird'], dtype=object)\n",
      " list(['Bose', 'Sony', 'Sennheiser', 'Audio-technica', 'Beyerdynamic', 'JBL', 'Plantronics', 'Beats', 'Jaybird', 'Jabra', 'Anker', 'Skullcandy', 'SteelSeries', 'Logitech', 'HyperX'])]\n"
     ]
    }
   ],
   "source": [
    "print(ranking_comp)"
   ]
  },
  {
   "cell_type": "code",
   "execution_count": 164,
   "metadata": {},
   "outputs": [],
   "source": [
    "df_compared = pd.DataFrame({'CrowdRank' : [b.capitalize() for b in df_ranking.Brand.values], \n",
    "              'RTings': rtings_top +['NaN' for i in range(len(df_ranking) - len(rtings_top))],\n",
    "                           'HeadphonesAddict' : [s_i for s_i in ranking_haddict_string.split()] })"
   ]
  },
  {
   "cell_type": "code",
   "execution_count": 165,
   "metadata": {},
   "outputs": [],
   "source": [
    "df_compared.index += 1"
   ]
  },
  {
   "cell_type": "code",
   "execution_count": 166,
   "metadata": {},
   "outputs": [
    {
     "data": {
      "text/html": [
       "<div>\n",
       "<style scoped>\n",
       "    .dataframe tbody tr th:only-of-type {\n",
       "        vertical-align: middle;\n",
       "    }\n",
       "\n",
       "    .dataframe tbody tr th {\n",
       "        vertical-align: top;\n",
       "    }\n",
       "\n",
       "    .dataframe thead th {\n",
       "        text-align: right;\n",
       "    }\n",
       "</style>\n",
       "<table border=\"1\" class=\"dataframe\">\n",
       "  <thead>\n",
       "    <tr style=\"text-align: right;\">\n",
       "      <th></th>\n",
       "      <th>CrowdRank</th>\n",
       "      <th>RTings</th>\n",
       "      <th>HeadphonesAddict</th>\n",
       "    </tr>\n",
       "  </thead>\n",
       "  <tbody>\n",
       "    <tr>\n",
       "      <th>1</th>\n",
       "      <td>Hyperx</td>\n",
       "      <td>Bose</td>\n",
       "      <td>Sennheiser</td>\n",
       "    </tr>\n",
       "    <tr>\n",
       "      <th>2</th>\n",
       "      <td>Steelseries</td>\n",
       "      <td>Sony</td>\n",
       "      <td>JBL</td>\n",
       "    </tr>\n",
       "    <tr>\n",
       "      <th>3</th>\n",
       "      <td>Denon</td>\n",
       "      <td>Sennheiser</td>\n",
       "      <td>Bose</td>\n",
       "    </tr>\n",
       "    <tr>\n",
       "      <th>4</th>\n",
       "      <td>Klipsch</td>\n",
       "      <td>Audio-technica</td>\n",
       "      <td>Sony</td>\n",
       "    </tr>\n",
       "    <tr>\n",
       "      <th>5</th>\n",
       "      <td>Philips</td>\n",
       "      <td>Beyerdynamic</td>\n",
       "      <td>Skullcandy</td>\n",
       "    </tr>\n",
       "    <tr>\n",
       "      <th>6</th>\n",
       "      <td>Logitech</td>\n",
       "      <td>JBL</td>\n",
       "      <td>AKG</td>\n",
       "    </tr>\n",
       "    <tr>\n",
       "      <th>7</th>\n",
       "      <td>Sennheiser</td>\n",
       "      <td>Plantronics</td>\n",
       "      <td>Beats</td>\n",
       "    </tr>\n",
       "    <tr>\n",
       "      <th>8</th>\n",
       "      <td>Jabra</td>\n",
       "      <td>Beats</td>\n",
       "      <td>Audio-technica</td>\n",
       "    </tr>\n",
       "    <tr>\n",
       "      <th>9</th>\n",
       "      <td>Samsung</td>\n",
       "      <td>Jaybird</td>\n",
       "      <td>Bang&amp;Olufsen</td>\n",
       "    </tr>\n",
       "    <tr>\n",
       "      <th>10</th>\n",
       "      <td>Beyerdynamic</td>\n",
       "      <td>Jabra</td>\n",
       "      <td>Beyerdynamic</td>\n",
       "    </tr>\n",
       "    <tr>\n",
       "      <th>11</th>\n",
       "      <td>Bose</td>\n",
       "      <td>Anker</td>\n",
       "      <td>Marshall</td>\n",
       "    </tr>\n",
       "    <tr>\n",
       "      <th>12</th>\n",
       "      <td>Akg</td>\n",
       "      <td>Skullcandy</td>\n",
       "      <td>Samsung</td>\n",
       "    </tr>\n",
       "    <tr>\n",
       "      <th>13</th>\n",
       "      <td>Sony</td>\n",
       "      <td>SteelSeries</td>\n",
       "      <td>Xiaomi</td>\n",
       "    </tr>\n",
       "    <tr>\n",
       "      <th>14</th>\n",
       "      <td>Skullcandy</td>\n",
       "      <td>Logitech</td>\n",
       "      <td>Jabra</td>\n",
       "    </tr>\n",
       "    <tr>\n",
       "      <th>15</th>\n",
       "      <td>Jbl</td>\n",
       "      <td>HyperX</td>\n",
       "      <td>Bowers&amp;Wilkins</td>\n",
       "    </tr>\n",
       "    <tr>\n",
       "      <th>16</th>\n",
       "      <td>Audio-technica</td>\n",
       "      <td>NaN</td>\n",
       "      <td>Philips</td>\n",
       "    </tr>\n",
       "    <tr>\n",
       "      <th>17</th>\n",
       "      <td>Jvc</td>\n",
       "      <td>NaN</td>\n",
       "      <td>Shure</td>\n",
       "    </tr>\n",
       "    <tr>\n",
       "      <th>18</th>\n",
       "      <td>Yamaha</td>\n",
       "      <td>NaN</td>\n",
       "      <td>V-MODA</td>\n",
       "    </tr>\n",
       "    <tr>\n",
       "      <th>19</th>\n",
       "      <td>Apple</td>\n",
       "      <td>NaN</td>\n",
       "      <td>RHA-Technologies</td>\n",
       "    </tr>\n",
       "    <tr>\n",
       "      <th>20</th>\n",
       "      <td>Jaybird</td>\n",
       "      <td>NaN</td>\n",
       "      <td>HyperX</td>\n",
       "    </tr>\n",
       "  </tbody>\n",
       "</table>\n",
       "</div>"
      ],
      "text/plain": [
       "         CrowdRank          RTings  HeadphonesAddict\n",
       "1           Hyperx            Bose        Sennheiser\n",
       "2      Steelseries            Sony               JBL\n",
       "3            Denon      Sennheiser              Bose\n",
       "4          Klipsch  Audio-technica              Sony\n",
       "5          Philips    Beyerdynamic        Skullcandy\n",
       "6         Logitech             JBL               AKG\n",
       "7       Sennheiser     Plantronics             Beats\n",
       "8            Jabra           Beats    Audio-technica\n",
       "9          Samsung         Jaybird      Bang&Olufsen\n",
       "10    Beyerdynamic           Jabra      Beyerdynamic\n",
       "11            Bose           Anker          Marshall\n",
       "12             Akg      Skullcandy           Samsung\n",
       "13            Sony     SteelSeries            Xiaomi\n",
       "14      Skullcandy        Logitech             Jabra\n",
       "15             Jbl          HyperX    Bowers&Wilkins\n",
       "16  Audio-technica             NaN           Philips\n",
       "17             Jvc             NaN             Shure\n",
       "18          Yamaha             NaN            V-MODA\n",
       "19           Apple             NaN  RHA-Technologies\n",
       "20         Jaybird             NaN            HyperX"
      ]
     },
     "execution_count": 166,
     "metadata": {},
     "output_type": "execute_result"
    }
   ],
   "source": [
    "df_compared"
   ]
  },
  {
   "cell_type": "code",
   "execution_count": null,
   "metadata": {},
   "outputs": [],
   "source": [
    "# Top-k accuracy:\n",
    "# In top-5 accuracy you give yourself credit for having the right answer if the right answer appeas in your top five guess:\n",
    "# Top-15 accuracy:\n",
    "# For CR & RTs: 10/15 = 67 %\n",
    "\n",
    "# FOR HAs & RTs: 7/15 = 47%\n",
    "\n",
    "# For CR & HAs: 9/15 = 60% \n",
    "\n",
    "# Jaccard Similarity for average over lap at diff depths:\n",
    "\n",
    "# For CR & RTs, at depth 15:\n",
    "# [HyperX, Bose, SteelSeries, Logitech, Sennheiser, Jabra, Beyerdynamic, Sony, Skullcandy, JBL],\n",
    "# [Denon, Klipsch, Philips, Samsung, AKG,]\n",
    "# Jacc Sim = 10/15\n",
    "\n",
    "# For CR & HAs, at depth 15:\n",
    "#\n",
    "# NO: [Hyperx, Steelseries, Denon, Klipsch, Philips, Logitech, ]\n",
    "# Y : [Sennheiser, Jabra, Samsung, Beyerdynamic, Bose, Akg, Sony, Skullcandy, JBL]\n",
    "# 9/15\n",
    "\n",
    "\n",
    "# Ones which appear in all 3: \n",
    "# Sony, Bose, Sennheiser, Audio-technica, BeyerDynamic, JBL, Jabra, Skullcandy, HyperX\n",
    "# Sony: 13, 2, 4 --> \n",
    "# Bose: 11, 1, 3 -->\n",
    "# Sennheiser: 7, 3, 1\n",
    "# A-T: 16, 4, 8\n",
    "# Beyerdynamic: 10, 5, 5\n",
    "# JBL:  15, 6, 2\n",
    "# Jabra: 8, 9, 14\n",
    "# Skullcandy: 14, 12, 5\n",
    "# HyperX: 1, 15, 20"
   ]
  },
  {
   "cell_type": "code",
   "execution_count": 169,
   "metadata": {},
   "outputs": [],
   "source": [
    "df_ranking_by_pop = df_ranking.sort_values(by=['Popularity'], ascending=False)\n",
    "df_compared_pop = pd.DataFrame({'CrowdRank' : [b.capitalize() for b in df_ranking_by_pop.Brand.values], \n",
    "              'RTings': rtings_top +['NaN' for i in range(len(df_ranking) - len(rtings_top))],\n",
    "                           'HeadphonesAddict' : [s_i for s_i in ranking_haddict_string.split()] })"
   ]
  },
  {
   "cell_type": "code",
   "execution_count": 172,
   "metadata": {},
   "outputs": [
    {
     "data": {
      "text/html": [
       "<div>\n",
       "<style scoped>\n",
       "    .dataframe tbody tr th:only-of-type {\n",
       "        vertical-align: middle;\n",
       "    }\n",
       "\n",
       "    .dataframe tbody tr th {\n",
       "        vertical-align: top;\n",
       "    }\n",
       "\n",
       "    .dataframe thead th {\n",
       "        text-align: right;\n",
       "    }\n",
       "</style>\n",
       "<table border=\"1\" class=\"dataframe\">\n",
       "  <thead>\n",
       "    <tr style=\"text-align: right;\">\n",
       "      <th></th>\n",
       "      <th>CrowdRank</th>\n",
       "      <th>RTings</th>\n",
       "      <th>HeadphonesAddict</th>\n",
       "    </tr>\n",
       "  </thead>\n",
       "  <tbody>\n",
       "    <tr>\n",
       "      <th>1</th>\n",
       "      <td>Sony</td>\n",
       "      <td>Bose</td>\n",
       "      <td>Sennheiser</td>\n",
       "    </tr>\n",
       "    <tr>\n",
       "      <th>2</th>\n",
       "      <td>Sennheiser</td>\n",
       "      <td>Sony</td>\n",
       "      <td>JBL</td>\n",
       "    </tr>\n",
       "    <tr>\n",
       "      <th>3</th>\n",
       "      <td>Bose</td>\n",
       "      <td>Sennheiser</td>\n",
       "      <td>Bose</td>\n",
       "    </tr>\n",
       "    <tr>\n",
       "      <th>4</th>\n",
       "      <td>Beyerdynamic</td>\n",
       "      <td>Audio-technica</td>\n",
       "      <td>Sony</td>\n",
       "    </tr>\n",
       "    <tr>\n",
       "      <th>5</th>\n",
       "      <td>Akg</td>\n",
       "      <td>Beyerdynamic</td>\n",
       "      <td>Skullcandy</td>\n",
       "    </tr>\n",
       "    <tr>\n",
       "      <th>6</th>\n",
       "      <td>Jabra</td>\n",
       "      <td>JBL</td>\n",
       "      <td>AKG</td>\n",
       "    </tr>\n",
       "    <tr>\n",
       "      <th>7</th>\n",
       "      <td>Apple</td>\n",
       "      <td>Plantronics</td>\n",
       "      <td>Beats</td>\n",
       "    </tr>\n",
       "    <tr>\n",
       "      <th>8</th>\n",
       "      <td>Audio-technica</td>\n",
       "      <td>Beats</td>\n",
       "      <td>Audio-technica</td>\n",
       "    </tr>\n",
       "    <tr>\n",
       "      <th>9</th>\n",
       "      <td>Jbl</td>\n",
       "      <td>Jaybird</td>\n",
       "      <td>Bang&amp;Olufsen</td>\n",
       "    </tr>\n",
       "    <tr>\n",
       "      <th>10</th>\n",
       "      <td>Logitech</td>\n",
       "      <td>Jabra</td>\n",
       "      <td>Beyerdynamic</td>\n",
       "    </tr>\n",
       "    <tr>\n",
       "      <th>11</th>\n",
       "      <td>Hyperx</td>\n",
       "      <td>Anker</td>\n",
       "      <td>Marshall</td>\n",
       "    </tr>\n",
       "    <tr>\n",
       "      <th>12</th>\n",
       "      <td>Philips</td>\n",
       "      <td>Skullcandy</td>\n",
       "      <td>Samsung</td>\n",
       "    </tr>\n",
       "    <tr>\n",
       "      <th>13</th>\n",
       "      <td>Samsung</td>\n",
       "      <td>SteelSeries</td>\n",
       "      <td>Xiaomi</td>\n",
       "    </tr>\n",
       "    <tr>\n",
       "      <th>14</th>\n",
       "      <td>Jaybird</td>\n",
       "      <td>Logitech</td>\n",
       "      <td>Jabra</td>\n",
       "    </tr>\n",
       "    <tr>\n",
       "      <th>15</th>\n",
       "      <td>Steelseries</td>\n",
       "      <td>HyperX</td>\n",
       "      <td>Bowers&amp;Wilkins</td>\n",
       "    </tr>\n",
       "    <tr>\n",
       "      <th>16</th>\n",
       "      <td>Skullcandy</td>\n",
       "      <td>NaN</td>\n",
       "      <td>Philips</td>\n",
       "    </tr>\n",
       "    <tr>\n",
       "      <th>17</th>\n",
       "      <td>Jvc</td>\n",
       "      <td>NaN</td>\n",
       "      <td>Shure</td>\n",
       "    </tr>\n",
       "    <tr>\n",
       "      <th>18</th>\n",
       "      <td>Denon</td>\n",
       "      <td>NaN</td>\n",
       "      <td>V-MODA</td>\n",
       "    </tr>\n",
       "    <tr>\n",
       "      <th>19</th>\n",
       "      <td>Yamaha</td>\n",
       "      <td>NaN</td>\n",
       "      <td>RHA-Technologies</td>\n",
       "    </tr>\n",
       "    <tr>\n",
       "      <th>20</th>\n",
       "      <td>Klipsch</td>\n",
       "      <td>NaN</td>\n",
       "      <td>HyperX</td>\n",
       "    </tr>\n",
       "  </tbody>\n",
       "</table>\n",
       "</div>"
      ],
      "text/plain": [
       "         CrowdRank          RTings  HeadphonesAddict\n",
       "1             Sony            Bose        Sennheiser\n",
       "2       Sennheiser            Sony               JBL\n",
       "3             Bose      Sennheiser              Bose\n",
       "4     Beyerdynamic  Audio-technica              Sony\n",
       "5              Akg    Beyerdynamic        Skullcandy\n",
       "6            Jabra             JBL               AKG\n",
       "7            Apple     Plantronics             Beats\n",
       "8   Audio-technica           Beats    Audio-technica\n",
       "9              Jbl         Jaybird      Bang&Olufsen\n",
       "10        Logitech           Jabra      Beyerdynamic\n",
       "11          Hyperx           Anker          Marshall\n",
       "12         Philips      Skullcandy           Samsung\n",
       "13         Samsung     SteelSeries            Xiaomi\n",
       "14         Jaybird        Logitech             Jabra\n",
       "15     Steelseries          HyperX    Bowers&Wilkins\n",
       "16      Skullcandy             NaN           Philips\n",
       "17             Jvc             NaN             Shure\n",
       "18           Denon             NaN            V-MODA\n",
       "19          Yamaha             NaN  RHA-Technologies\n",
       "20         Klipsch             NaN            HyperX"
      ]
     },
     "execution_count": 172,
     "metadata": {},
     "output_type": "execute_result"
    }
   ],
   "source": [
    "df_compared_pop.index +=1\n",
    "df_compared_pop"
   ]
  },
  {
   "cell_type": "code",
   "execution_count": null,
   "metadata": {},
   "outputs": [],
   "source": [
    "# Top-15 accuracy (Usin CrowdRank_Popularity):\n",
    "# Top-15 accuracy:\n",
    "# NO: [AKG, Apple, Philips, Samsung] \n",
    "# For CR & RTs: 11/15 = 73.3 %\n",
    "\n",
    "# FOR HAs & RTs: 7/15 = 47%\n",
    "\n",
    "# No: [Apple, Logitech, HyperX, Philips, Jaybird, Steelseries]\n",
    "# For CR & HAs: 9/15 = 60% \n",
    "# 4 brands are not very common "
   ]
  },
  {
   "cell_type": "code",
   "execution_count": 182,
   "metadata": {},
   "outputs": [
    {
     "data": {
      "text/html": [
       "<div>\n",
       "<style scoped>\n",
       "    .dataframe tbody tr th:only-of-type {\n",
       "        vertical-align: middle;\n",
       "    }\n",
       "\n",
       "    .dataframe tbody tr th {\n",
       "        vertical-align: top;\n",
       "    }\n",
       "\n",
       "    .dataframe thead th {\n",
       "        text-align: right;\n",
       "    }\n",
       "</style>\n",
       "<table border=\"1\" class=\"dataframe\">\n",
       "  <thead>\n",
       "    <tr style=\"text-align: right;\">\n",
       "      <th></th>\n",
       "      <th>CR_S &amp; RTings</th>\n",
       "      <th>CR_P &amp; RTings</th>\n",
       "      <th>CrowdRank &amp; HAs</th>\n",
       "      <th>RTings &amp; HAs</th>\n",
       "    </tr>\n",
       "  </thead>\n",
       "  <tbody>\n",
       "    <tr>\n",
       "      <th>0</th>\n",
       "      <td>67%</td>\n",
       "      <td>73%</td>\n",
       "      <td>47%</td>\n",
       "      <td>60%</td>\n",
       "    </tr>\n",
       "  </tbody>\n",
       "</table>\n",
       "</div>"
      ],
      "text/plain": [
       "  CR_S & RTings CR_P & RTings CrowdRank & HAs RTings & HAs\n",
       "0           67%           73%             47%          60%"
      ]
     },
     "execution_count": 182,
     "metadata": {},
     "output_type": "execute_result"
    }
   ],
   "source": [
    "df = pd.DataFrame({'CR & RTs': ['67%', '73%'], , 'CR & HAs': ['60%', '60%'], 'RTs & HAs': ['47%, 47%']})\n",
    "#df.index.name = 'Top-15 Accuracy'\n",
    "df"
   ]
  },
  {
   "cell_type": "code",
   "execution_count": 180,
   "metadata": {},
   "outputs": [
    {
     "data": {
      "text/html": [
       "<div>\n",
       "<style scoped>\n",
       "    .dataframe tbody tr th:only-of-type {\n",
       "        vertical-align: middle;\n",
       "    }\n",
       "\n",
       "    .dataframe tbody tr th {\n",
       "        vertical-align: top;\n",
       "    }\n",
       "\n",
       "    .dataframe thead th {\n",
       "        text-align: right;\n",
       "    }\n",
       "</style>\n",
       "<table border=\"1\" class=\"dataframe\">\n",
       "  <thead>\n",
       "    <tr style=\"text-align: right;\">\n",
       "      <th>Top-15 Accuracy</th>\n",
       "      <th>CR_S &amp; RTings</th>\n",
       "      <th>CR_P &amp; RTings</th>\n",
       "      <th>CrowdRank &amp; HAs</th>\n",
       "      <th>RTings &amp; HAs</th>\n",
       "    </tr>\n",
       "  </thead>\n",
       "  <tbody>\n",
       "    <tr>\n",
       "      <th>0</th>\n",
       "      <td>67%</td>\n",
       "      <td>73%</td>\n",
       "      <td>47%</td>\n",
       "      <td>60%</td>\n",
       "    </tr>\n",
       "  </tbody>\n",
       "</table>\n",
       "</div>"
      ],
      "text/plain": [
       "Top-15 Accuracy CR_S & RTings CR_P & RTings CrowdRank & HAs RTings & HAs\n",
       "0                         67%           73%             47%          60%"
      ]
     },
     "execution_count": 180,
     "metadata": {},
     "output_type": "execute_result"
    }
   ],
   "source": [
    "df"
   ]
  },
  {
   "cell_type": "code",
   "execution_count": null,
   "metadata": {},
   "outputs": [],
   "source": []
  }
 ],
 "metadata": {
  "kernelspec": {
   "display_name": "Python 3.7.4 64-bit ('py3b': conda)",
   "language": "python",
   "name": "python37464bitpy3bconda9e63d4e9c0474755b9b5cc46d4cddbaf"
  },
  "language_info": {
   "codemirror_mode": {
    "name": "ipython",
    "version": 3
   },
   "file_extension": ".py",
   "mimetype": "text/x-python",
   "name": "python",
   "nbconvert_exporter": "python",
   "pygments_lexer": "ipython3",
   "version": "3.7.4"
  }
 },
 "nbformat": 4,
 "nbformat_minor": 2
}
