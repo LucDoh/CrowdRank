{
 "cells": [
  {
   "cell_type": "code",
   "execution_count": 3,
   "metadata": {},
   "outputs": [],
   "source": [
    "import pandas as pd\n",
    "import json\n",
    "df = pd.read_csv('../data/product_data/DatafinitiElectronicsProductsPricingData.csv')"
   ]
  },
  {
   "cell_type": "code",
   "execution_count": 14,
   "metadata": {},
   "outputs": [
    {
     "name": "stdout",
     "output_type": "stream",
     "text": [
      "14592\n"
     ]
    },
    {
     "data": {
      "text/plain": [
       "Index(['id', 'prices.amountMax', 'prices.amountMin', 'prices.availability',\n",
       "       'prices.condition', 'prices.currency', 'prices.dateSeen',\n",
       "       'prices.isSale', 'prices.merchant', 'prices.shipping',\n",
       "       'prices.sourceURLs', 'asins', 'brand', 'categories', 'dateAdded',\n",
       "       'dateUpdated', 'ean', 'imageURLs', 'keys', 'manufacturer',\n",
       "       'manufacturerNumber', 'name', 'primaryCategories', 'sourceURLs', 'upc',\n",
       "       'weight', 'Unnamed: 26', 'Unnamed: 27', 'Unnamed: 28', 'Unnamed: 29',\n",
       "       'Unnamed: 30'],\n",
       "      dtype='object')"
      ]
     },
     "execution_count": 14,
     "metadata": {},
     "output_type": "execute_result"
    }
   ],
   "source": [
    "print(len(df))\n",
    "df.columns"
   ]
  },
  {
   "cell_type": "code",
   "execution_count": 16,
   "metadata": {},
   "outputs": [],
   "source": [
    "# 309 unique brands, we'll write them in lowercase to a file so that our ranking consists of brands\n",
    "# and not random entities the NER picked up\n",
    "brands = df['brand'].unique()\n",
    "with open('../data/product_data/brands.txt', 'w') as f:\n",
    "    for brand in brands:\n",
    "        f.write('%s\\n' % brand.lower())"
   ]
  },
  {
   "cell_type": "code",
   "execution_count": 10,
   "metadata": {},
   "outputs": [
    {
     "name": "stdout",
     "output_type": "stream",
     "text": [
      "875\n"
     ]
    }
   ],
   "source": [
    "with open('../scripts/results.txt', 'r') as f:\n",
    "    results = json.load(f)\n",
    "print(len(results))"
   ]
  },
  {
   "cell_type": "code",
   "execution_count": 11,
   "metadata": {},
   "outputs": [],
   "source": [
    "with open('../scripts/ranking.txt') as f:\n",
    "    rankings = json.load(f)"
   ]
  },
  {
   "cell_type": "code",
   "execution_count": 20,
   "metadata": {},
   "outputs": [
    {
     "name": "stdout",
     "output_type": "stream",
     "text": [
      "[('amazon', 40), ('sony', 35), ('sennheiser', 28), ('klipsch', 26), ('denon', 24), ('jbl', 21), ('bose', 19), ('kef', 18), ('yamaha', 14), ('pioneer', 12), ('logitech', 10), ('onkyo', 9), ('google', 8), ('rca', 8), ('svs', 5)]\n"
     ]
    }
   ],
   "source": [
    "print(sorted(rankings.items(), key = lambda x:x[1], reverse = True))"
   ]
  },
  {
   "cell_type": "code",
   "execution_count": null,
   "metadata": {},
   "outputs": [],
   "source": []
  }
 ],
 "metadata": {
  "kernelspec": {
   "display_name": "Python 3.7.4 64-bit ('py3b': conda)",
   "language": "python",
   "name": "python37464bitpy3bconda1a983976babd482a8096fd5d08b5bc22"
  },
  "language_info": {
   "codemirror_mode": {
    "name": "ipython",
    "version": 3
   },
   "file_extension": ".py",
   "mimetype": "text/x-python",
   "name": "python",
   "nbconvert_exporter": "python",
   "pygments_lexer": "ipython3",
   "version": "3.7.4"
  }
 },
 "nbformat": 4,
 "nbformat_minor": 2
}
